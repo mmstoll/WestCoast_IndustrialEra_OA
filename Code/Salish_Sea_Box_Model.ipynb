{
 "cells": [
  {
   "cell_type": "markdown",
   "metadata": {
    "tags": []
   },
   "source": [
    "# Box Model of the Salish Sea\n",
    " - Schematic of box model can be found in Supplementary Info Figure 3.1\n",
    "---------------------"
   ]
  },
  {
   "cell_type": "code",
   "execution_count": 1,
   "metadata": {
    "tags": []
   },
   "outputs": [],
   "source": [
    "import sys\n",
    "import os\n",
    "import importlib\n",
    "import xarray as xr\n",
    "import pandas as pd\n",
    "import numpy as np\n",
    "\n",
    "import matplotlib.pyplot as plt\n",
    "import cartopy.crs as ccrs\n",
    "import cartopy.feature as cfeature\n",
    "\n",
    "from scipy import optimize\n",
    "import math"
   ]
  },
  {
   "cell_type": "markdown",
   "metadata": {
    "tags": []
   },
   "source": [
    "# Open model simulations and observational data files"
   ]
  },
  {
   "cell_type": "code",
   "execution_count": 2,
   "metadata": {},
   "outputs": [
    {
     "data": {
      "text/plain": [
       "<module 'Output_Cleanup_Functions' from '/raid/mmstoll/Code/Industrial_Era_OA_Code/../Functions/Output_Cleanup_Functions.py'>"
      ]
     },
     "execution_count": 2,
     "metadata": {},
     "output_type": "execute_result"
    }
   ],
   "source": [
    "sys.path.insert(1, '../Functions')\n",
    "import Output_Cleanup_Functions as open_files\n",
    "importlib.reload(open_files)"
   ]
  },
  {
   "cell_type": "code",
   "execution_count": 3,
   "metadata": {},
   "outputs": [],
   "source": [
    "file_historic_12km = '/home/mmstoll/raid/Data/CCModel_Historic_Data/usw12_avg_ctracers_vintp_ROMS.nc'\n",
    "file_modern_12km = '/home/mmstoll/raid/Data/CCModel_Modern_Data/usw12_avg_ctracers_vintp.nc'"
   ]
  },
  {
   "cell_type": "code",
   "execution_count": 4,
   "metadata": {},
   "outputs": [],
   "source": [
    "ds_modern, ds_historic, month_list_modern, month_list_historic = open_files.open_files_12vs12(file_modern_12km, file_historic_12km)\n",
    "depth_list = open_files.depths()"
   ]
  },
  {
   "cell_type": "markdown",
   "metadata": {
    "tags": []
   },
   "source": [
    "Specify start and end dates for modern and historic model simulations"
   ]
  },
  {
   "cell_type": "code",
   "execution_count": 5,
   "metadata": {},
   "outputs": [],
   "source": [
    "date_index_modern_start = month_list_modern.index('December 2000')\n",
    "date_index_modern_end = month_list_modern.index('November 2007')\n",
    "date_index_historic_start = month_list_historic.index('December 1897')\n",
    "date_index_historic_end = month_list_historic.index('November 1904')"
   ]
  },
  {
   "cell_type": "markdown",
   "metadata": {},
   "source": [
    "Observational bottle data from the Salish Sea collected by the Washington Ocean Acidification Center"
   ]
  },
  {
   "cell_type": "code",
   "execution_count": 6,
   "metadata": {},
   "outputs": [],
   "source": [
    "file_SalishSea_obs_data = '/home/mmstoll/raid/Data/Coral_Data/WOAC_DIC_Alk_pH_data_Mary_Margaret_Stoll_2008-2018.xlsx'\n",
    "SS_obs = pd.read_excel(file_SalishSea_obs_data, engine = 'openpyxl')\n",
    "SS_obs = SS_obs[(SS_obs['DIC_UMOL_KG'].notna()) & (SS_obs['pHTOTAL'].notna())]"
   ]
  },
  {
   "cell_type": "markdown",
   "metadata": {
    "tags": []
   },
   "source": [
    "# Determine end member properties for box model of the Salish Sea "
   ]
  },
  {
   "cell_type": "markdown",
   "metadata": {
    "jp-MarkdownHeadingCollapsed": true,
    "tags": []
   },
   "source": [
    "### Functions to calculate carbonate chemistry parameters"
   ]
  },
  {
   "cell_type": "markdown",
   "metadata": {
    "jp-MarkdownHeadingCollapsed": true,
    "tags": []
   },
   "source": [
    "#### Function to calculate $p$CO$_2$ from DIC and Alk"
   ]
  },
  {
   "cell_type": "code",
   "execution_count": 7,
   "metadata": {},
   "outputs": [],
   "source": [
    "def calc_pco2_TA_DIC(temp, sal, DIC, Alk):\n",
    "    TK = temp + 273.16 #temperature in Celsius into Kelvin\n",
    "    I = 19.924*sal/(1000 - 1.005 * sal) #molal ionic strength\n",
    "    R = 83.131 #Gas constant\n",
    "    \n",
    "    #Conservative seawater components as a function of salinity\n",
    "    B_T = 0.000416 * sal / 35 #total boron\n",
    "    F_T = 7e-5 * sal / 35 #total HF and F-\n",
    "    # SO4_T = .0293*Sal/35 #total sulfate species from Millero 1995\n",
    "    SO4_T = .02824 * sal / 35 #total sulfate species from DOE 1994, and Dickson/Millero's refitting of Mehrbach\n",
    "    Ca_T = .01028 * sal / 35\n",
    "\n",
    "    #1st dissociation constant for seawater as a function of T and S\n",
    "    #Seawater Scale\n",
    "    #Fortran code - Millero p.664 (1995) using Mehrbach et al. data on seawater scale\n",
    "    K_1 = 10**(-1*(3670.7*(1/TK) - 62.008 + 9.7944*math.log(TK) - 0.0118*sal + 0.000116*sal**2))\n",
    "\n",
    "    #2nd dissociation constant for seawater as a function of T and S\n",
    "    #Seawater Scale\n",
    "    #Fortran code - Millero p.664 (1995) using Mehrbach et al. data on seawater scale\n",
    "    K_2 = 10**(-1*(1394.7*(1/TK) + 4.777 - 0.0184*sal + 0.000118*sal**2))\n",
    "\n",
    "    #dissociation contant for H2O\n",
    "    #Seawater Scale\n",
    "    #Fortran code - Millero p.670 (1995) using composite data\n",
    "    K_W = math.exp(-13847.26*(1/TK) + 148.9652 - 23.6521 * math.log(TK) + (118.67*(1/TK) - 5.977 + 1.0495 * math.log(TK)) * math.sqrt(sal) - 0.01615 * sal)\n",
    "               \n",
    "    #Boric Acid\n",
    "    #Fortran code - Millero p.669 (1995) using data from Dickson (1990)\n",
    "    K_B = math.exp((-8966.90 - 2890.53*math.sqrt(sal) - 77.942*sal + 1.728*(sal**1.5)-0.0996*sal**2)*(1/TK) + (148.0248 + 137.1942*math.sqrt(sal) +1.62142*sal) + (-24.4344 -25.085*math.sqrt(sal) - 0.2474*sal)*math.log(TK)+0.053105*math.sqrt(sal)*TK)\n",
    "\n",
    "    #CO2 solubility in water\n",
    "    #Weiss 1974\n",
    "    K_0 = math.exp(93.4517/(TK/100) - 60.2409 + 23.3585*math.log(TK/100) + sal\n",
    "                    *(.023517 - 0.023656 * (TK/100) + 0.0047036 * (TK/100)**2))\n",
    "    \n",
    "    def f_zero(x):\n",
    "        denom = (x**2+K_1*x+K_1*K_2)\n",
    "        Alpha0 = (x**2)/denom\n",
    "        Alpha1 = (K_1*x)/denom\n",
    "        Alpha2 = (K_1*K_2)/denom\n",
    "    \n",
    "        return((Alpha1*DIC) + (2*Alpha2*DIC) + (K_W/x) + (B_T/(1+x/K_B)) - Alk - x) #equation that equals 0\n",
    "\n",
    "    root = optimize.bisect(f_zero,1*10**-16,1) #calculates root of the equation returned by f_zero\n",
    "    ph_value = (-math.log(root,10)) #calculates and returns the pH values\n",
    "\n",
    "    denom = (root**2 + K_1*root + K_1*K_2)\n",
    "    bicarbonate = DIC*10**6*K_1*root / denom\n",
    "    carbonate = DIC*10**6*K_1*K_2 / denom\n",
    "    CO2_star = (root*bicarbonate)/K_1\n",
    "    pCO2 = CO2_star / K_0\n",
    "\n",
    "    return(pCO2)"
   ]
  },
  {
   "cell_type": "markdown",
   "metadata": {
    "jp-MarkdownHeadingCollapsed": true,
    "tags": []
   },
   "source": [
    "#### Function to calculate DIC from Alk and $p$CO$_2$"
   ]
  },
  {
   "cell_type": "code",
   "execution_count": 8,
   "metadata": {},
   "outputs": [],
   "source": [
    "def calc_DIC(temp, sal, Alk, pCO2):\n",
    "    TK = temp + 273.16 #temperature in Celsius into Kelvin\n",
    "    I = 19.924*sal/(1000 - 1.005 * sal) #molal ionic strength\n",
    "    R = 83.131 #Gas constant\n",
    "    \n",
    "    #Conservative seawater components as a function of salinity\n",
    "    B_T = 0.000416 * sal / 35 #total boron\n",
    "    F_T = 7e-5 * sal / 35 #total HF and F-\n",
    "    # SO4_T = .0293*Sal/35 #total sulfate species from Millero 1995\n",
    "    SO4_T = .02824 * sal / 35 #total sulfate species from DOE 1994, and Dickson/Millero's refitting of Mehrbach\n",
    "    Ca_T = .01028 * sal / 35\n",
    "\n",
    "    #1st dissociation constant for seawater as a function of T and S\n",
    "    #Seawater Scale\n",
    "    #Fortran code - Millero p.664 (1995) using Mehrbach et al. data on seawater scale\n",
    "    K_1 = 10**(-1*(3670.7*(1/TK) - 62.008 + 9.7944*math.log(TK) - 0.0118*sal + 0.000116*sal**2))\n",
    "\n",
    "    #2nd dissociation constant for seawater as a function of T and S\n",
    "    #Seawater Scale\n",
    "    #Fortran code - Millero p.664 (1995) using Mehrbach et al. data on seawater scale\n",
    "    K_2 = 10**(-1*(1394.7*(1/TK) + 4.777 - 0.0184*sal + 0.000118*sal**2))\n",
    "\n",
    "    #dissociation contant for H2O\n",
    "    #Seawater Scale, CONSISTENT\n",
    "    #Fortran code - Millero p.670 (1995) using composite data\n",
    "    K_W = math.exp(-13847.26*(1/TK) + 148.9652 - 23.6521 * math.log(TK) + (118.67*(1/TK) - 5.977 + 1.0495 * math.log(TK)) * math.sqrt(sal) - 0.01615 * sal)\n",
    "               \n",
    "    #Boric Acid\n",
    "    #Fortran code - Millero p.669 (1995) using data from Dickson (1990)\n",
    "    K_B = math.exp((-8966.90 - 2890.53*math.sqrt(sal) - 77.942*sal + 1.728*(sal**1.5)-0.0996*sal**2)*(1/TK) + (148.0248 + 137.1942*math.sqrt(sal) +1.62142*sal) + (-24.4344 -25.085*math.sqrt(sal) - 0.2474*sal)*math.log(TK)+0.053105*math.sqrt(sal)*TK)\n",
    "\n",
    "    #CO2 solubility in water\n",
    "    #Weiss 1974\n",
    "    K_0 = math.exp(93.4517/(TK/100) - 60.2409 + 23.3585*math.log(TK/100) + sal\n",
    "                    *(.023517 - 0.023656 * (TK/100) + 0.0047036 * (TK/100)**2))\n",
    "    \n",
    "    def f_zero(x):\n",
    "        lhs = Alk * x**2 * (K_B+x)\n",
    "        rhs = (pCO2*K_0/(1*10**6))*(K_B+x)*(K_1*x + 2*K_1*K_2) + x**2*K_B*B_T + (K_B + x)*(K_W*x - x**3)\n",
    "        return(lhs-rhs)\n",
    "    \n",
    "    root = optimize.bisect(f_zero,1*10**-16,1)\n",
    "    ph_value = (-math.log(root,10)) #calculates and returns the pH values\n",
    "    \n",
    "    DIC = (pCO2*K_0/(1*10**6))*(1 + (K_1/root) + ((K_1*K_2)/root**2))\n",
    " \n",
    "    return(DIC)"
   ]
  },
  {
   "cell_type": "markdown",
   "metadata": {
    "tags": []
   },
   "source": [
    "### Upwelled water mass properties"
   ]
  },
  {
   "cell_type": "markdown",
   "metadata": {
    "jp-MarkdownHeadingCollapsed": true,
    "tags": []
   },
   "source": [
    "#### Determine summertime average properties of upwelled waters that enter the Strait of Juan de Fuca from the California Current in the historic and modern eras"
   ]
  },
  {
   "cell_type": "code",
   "execution_count": 9,
   "metadata": {},
   "outputs": [],
   "source": [
    "#Model domain lat and lon indices at entrance of the Strait of Juan de Fuca\n",
    "iy_mod = 317\n",
    "ix_mod = 282"
   ]
  },
  {
   "cell_type": "code",
   "execution_count": 10,
   "metadata": {},
   "outputs": [],
   "source": [
    "def is_jja(month, month_start, month_end):\n",
    "        return (month >= month_start) & (month <= month_end)"
   ]
  },
  {
   "cell_type": "code",
   "execution_count": 11,
   "metadata": {},
   "outputs": [],
   "source": [
    "month_start = 6\n",
    "month_end = 8\n",
    "\n",
    "mod_TA = ds_modern['Alk'][date_index_modern_start:date_index_modern_end,6:,iy_mod-2:iy_mod+3,\n",
    "                          ix_mod-2:ix_mod+3]\n",
    "mod_TA = mod_TA.sel(time=is_jja(mod_TA['time.month'], month_start, month_end)).mean()\n",
    "    \n",
    "mod_DIC = ds_modern['DIC'][date_index_modern_start:date_index_modern_end,6:,iy_mod-2:iy_mod+3,\n",
    "                                     ix_mod-2:ix_mod+3]\n",
    "mod_DIC = mod_DIC.sel(time=is_jja(mod_DIC['time.month'], month_start, month_end)).mean()\n",
    "    \n",
    "mod_temp = ds_modern['temp'][date_index_modern_start:date_index_modern_end,6:,iy_mod-2:iy_mod+3,\n",
    "                                     ix_mod-2:ix_mod+3]\n",
    "mod_temp = mod_temp.sel(time=is_jja(mod_temp['time.month'], month_start, month_end)).mean()\n",
    "    \n",
    "mod_salt = ds_modern['salt'][date_index_modern_start:date_index_modern_end,6:,iy_mod-2:iy_mod+3,\n",
    "                             ix_mod-2:ix_mod+3]\n",
    "mod_salt = mod_salt.sel(time=is_jja(mod_salt['time.month'], month_start, month_end)).mean()\n",
    "\n",
    "mod_density = ds_modern['rho'][date_index_modern_start:date_index_modern_end,6:,iy_mod-2:iy_mod+3,\n",
    "                               ix_mod-2:ix_mod+3]\n",
    "mod_density = (mod_density.sel(time=is_jja(mod_density['time.month'], month_start, month_end))+1027.4).mean()\n",
    "\n",
    "    \n",
    "hist_TA = ds_historic['Alk'][date_index_modern_start:date_index_modern_end,6:,iy_mod-2:iy_mod+3,\n",
    "                             ix_mod-2:ix_mod+3]\n",
    "hist_TA = hist_TA.sel(time=is_jja(hist_TA['time.month'], month_start, month_end)).mean()\n",
    "    \n",
    "hist_DIC = ds_historic['DIC'][date_index_modern_start:date_index_modern_end,6:,iy_mod-2:iy_mod+3,\n",
    "                              ix_mod-2:ix_mod+3]\n",
    "hist_DIC = hist_DIC.sel(time=is_jja(hist_DIC['time.month'], month_start, month_end)).mean()\n",
    "    \n",
    "hist_temp = ds_historic['temp'][date_index_modern_start:date_index_modern_end,6:,iy_mod-2:iy_mod+3,\n",
    "                                ix_mod-2:ix_mod+3]\n",
    "hist_temp = hist_temp.sel(time=is_jja(hist_temp['time.month'], month_start, month_end)).mean()\n",
    "    \n",
    "hist_salt = ds_historic['salt'][date_index_modern_start:date_index_modern_end,6:,iy_mod-2:iy_mod+3,\n",
    "                                ix_mod-2:ix_mod+3]\n",
    "hist_salt = hist_salt.sel(time=is_jja(hist_salt['time.month'], month_start, month_end)).mean()\n",
    "    \n",
    "hist_density = ds_historic['rho'][date_index_modern_start:date_index_modern_end,6:,iy_mod-2:iy_mod+3,\n",
    "                                  ix_mod-2:ix_mod+3]\n",
    "hist_density = (hist_density.sel(time=is_jja(hist_density['time.month'], month_start, month_end))+1027.4).mean()    "
   ]
  },
  {
   "cell_type": "markdown",
   "metadata": {
    "jp-MarkdownHeadingCollapsed": true,
    "tags": []
   },
   "source": [
    "#### Calculate DIC value of the upwelled waters that enter the Salish Sea in 2020\n",
    "To account for the modern temporal offset (corals collected 2020; model output ~2005), during which rapid carbon accumulation occurred, we advance the modeled DIC of the California Current upwelled waters from 2005 to 2020 to match the collection date of the modern corals and assume that this advance follows the known rise in atmospheric CO$_2$. Given that the water entering the Salish Sea from the California Current is 25 years old (Murray et al. 2015), the water mass represented in the modern model simulation was last in contact with the atmosphere in 1980. To advance modeled DIC from 2005 to 2020, we assume the waters entering the Salish Sea in 2020 were last in contact with the atmosphere in 1995 (CO$_2$ atm 1995 = 360 µatm; ΔCO$_2$ atm 1980–1995 = 21 µatm). We quantify the impact of this anthropogenic carbon on DIC as described in Methods, Equations 3 and 4. "
   ]
  },
  {
   "cell_type": "code",
   "execution_count": 12,
   "metadata": {},
   "outputs": [],
   "source": [
    "atm_CO2_1900 = 295 #atmospheric CO2\n",
    "atm_CO2_1995 = 360 #atmospheric CO2 1995 (the upwelled waters the enter the Salish Sea in 2020 have a water mass age = 25 yrs, so atmospheric contact age = 1995)\n",
    "atm_CO2_2020 = 415 #atmospheric CO2 2020\n",
    "\n",
    "calc_pref_hist_DIC = calc_DIC(hist_temp, hist_salt, (hist_TA)/(hist_density*1000), atm_CO2_1900) #mol/kg\n",
    "calc_pref_mod_DIC = calc_DIC(mod_temp, mod_salt, (mod_TA)/(mod_density*1000), atm_CO2_1995) #mol/kg"
   ]
  },
  {
   "cell_type": "code",
   "execution_count": 13,
   "metadata": {},
   "outputs": [],
   "source": [
    "pref_DIC_diff = (calc_pref_mod_DIC*mod_density*1000)-(calc_pref_hist_DIC*hist_density*1000)\n",
    "# pref_DIC_diff #mmol/m3"
   ]
  },
  {
   "cell_type": "code",
   "execution_count": 14,
   "metadata": {},
   "outputs": [],
   "source": [
    "#DIC of summertime upwelled waters entering the Salish Sea in 2020 with a water mass age of 25 years \n",
    "upwelled_DIC_2020 = hist_DIC + pref_DIC_diff #mmol/m3"
   ]
  },
  {
   "cell_type": "markdown",
   "metadata": {
    "jp-MarkdownHeadingCollapsed": true,
    "tags": []
   },
   "source": [
    "### Salish Sea water mass properties\n",
    " - Washington Ocean Acidification Center station 21 is closest to Admiralty Inlet, where a majority of Salish Sea corals were located"
   ]
  },
  {
   "cell_type": "code",
   "execution_count": 15,
   "metadata": {},
   "outputs": [],
   "source": [
    "stn_21_obs = SS_obs.loc[SS_obs['STN'] == 21]\n",
    "stn_21_obs = stn_21_obs.loc[(SS_obs['MONTH'] == 7) & (SS_obs['PRESS (dbar)'] >50)] #Select July data at a depth > 50dbar, where corals reside\n",
    "\n",
    "temp_SS_obs = stn_21_obs['TEMP (C, ITS-90)'].mean() #units C\n",
    "sal_SS_obs = stn_21_obs['SAL (PSS-78)'].mean()\n",
    "TA_SS_obs = stn_21_obs['TA_UMOL_KG'].mean()/(1*10**6) #units mol/kg"
   ]
  },
  {
   "cell_type": "markdown",
   "metadata": {
    "tags": []
   },
   "source": [
    "# Perform box model calculations to estimate $p$CO$_2$ of the Salish Sea in the historic and modern eras\n",
    " - Inputs:\n",
    "   - DIC upwelled (historic and modern)\n",
    "   - CO$_2$ atmosphere (historic and modern)\n",
    "   - Total alkalinity (constant)\n",
    "   - Temperature (constant)\n",
    "   - Salinity (constant) <br>\n",
    "<br>\n",
    "   - Variables that can change:\n",
    "     - Tau (residence time in days)\n",
    "\n",
    "<br>\n",
    "  - Zero finding method calculates DIC of the Salish Sea, which can then be used to calculate $p$CO$_2$\n",
    "<br>\n",
    "  - This calculation is performed in both the historic and modern eras to determine a box model estimate of $\\Delta$$p$CO$_2$. This value is compared to the coral-based estimate of $\\Delta$$p$CO$_2$ in the Salish Sea.\n"
   ]
  },
  {
   "cell_type": "markdown",
   "metadata": {
    "jp-MarkdownHeadingCollapsed": true,
    "tags": []
   },
   "source": [
    "#### Calculate residence time of Strait of Juan de Fuca"
   ]
  },
  {
   "cell_type": "code",
   "execution_count": 16,
   "metadata": {},
   "outputs": [],
   "source": [
    "volume = 150000*25000*150 #units m3, calculated using Google Earth\n",
    "flow_rate = (0.66*(140) + 0.33*(20))*10**3 #units m3/s; (MacCready et al. 2021 and Sutherland et al. 2011)\n",
    "\n",
    "per_time = (flow_rate/volume)*60*60*24 #units per day\n",
    "tau = 1/per_time #units days"
   ]
  },
  {
   "cell_type": "markdown",
   "metadata": {
    "tags": []
   },
   "source": [
    "#### Calculate estimates of pH and $p$CO$_2$ using box model equation\n",
    " - Change variable 'era' to reflect historic or modern time period\n",
    " - Change variable 'tau' to reflect different residence times; 65 days"
   ]
  },
  {
   "cell_type": "code",
   "execution_count": 17,
   "metadata": {},
   "outputs": [],
   "source": [
    "def box_model_solution(era, tau):\n",
    "    density = 1024\n",
    "    piston_velocity = 7 #m/day\n",
    "    mixed_layer = 100 #meters\n",
    "\n",
    "    #2020\n",
    "    if era =='modern':\n",
    "        temp = temp_SS_obs\n",
    "        TK = temp + 273.15\n",
    "        sal = sal_SS_obs\n",
    "        Alk_molkg = TA_SS_obs #mol/kg\n",
    "        K_0 = math.exp(93.4517/(TK/100) - 60.2409 + 23.3585*math.log(TK/100) + sal\n",
    "                       *(.023517 - 0.023656 * (TK/100) + 0.0047036 * (TK/100)**2)) #CO2 solubility in water; Weiss 1974\n",
    "        co2_atm_molkg = (atm_CO2_2020/(1*10**6))*K_0 #mol/kg\n",
    "        DIC_upwelled_molkg = upwelled_DIC_2020/(density*1000) #mol/kg; model value advanced to 2020 using preformed test to account for water mass age\n",
    "\n",
    "    #1900\n",
    "    if era == 'historic':\n",
    "        temp = temp_SS_obs\n",
    "        TK = temp + 273.15\n",
    "        sal = sal_SS_obs\n",
    "        Alk_molkg = TA_SS_obs #mol/kg\n",
    "        K_0 = math.exp(93.4517/(TK/100) - 60.2409 + 23.3585*math.log(TK/100) + sal\n",
    "                       *(.023517 - 0.023656 * (TK/100) + 0.0047036 * (TK/100)**2)) #CO2 solubility in water; Weiss 1974\n",
    "        co2_atm_molkg = (atm_CO2_1900/(1*10**6))*K_0 #mol/kg\n",
    "        DIC_upwelled_molkg = hist_DIC/(density*1000) #mol/kg; model value\n",
    "\n",
    "    output_array = []\n",
    "    pco2_array = []\n",
    "\n",
    "    DIC = np.linspace(2000,2200,400) #umol/kg\n",
    "    for i in range(0,len(DIC)):\n",
    "        DIC_guess = DIC[i]/(10**6) #mol/kg\n",
    "        pco2_guess = calc_pco2_TA_DIC(temp, sal, DIC_guess, Alk_molkg)\n",
    "        pco2_molkg = (pco2_guess*K_0)/10**6\n",
    "        output = ((1/tau) * DIC_upwelled_molkg -(1/tau) * DIC_guess + (piston_velocity/mixed_layer) * (co2_atm_molkg-pco2_molkg))\n",
    "        output_array.append(output)\n",
    "        pco2_array.append(pco2_guess)\n",
    "        \n",
    "    zero_line = np.zeros_like(DIC)\n",
    "    index = int(np.argwhere(np.diff(np.sign(zero_line - output_array).flatten())))\n",
    "    \n",
    "    DIC_value = DIC[index] #umol/kg\n",
    "    pco2_value = pco2_array[index] #uatm\n",
    "    \n",
    "    return(DIC_value, pco2_value)"
   ]
  },
  {
   "cell_type": "code",
   "execution_count": 18,
   "metadata": {},
   "outputs": [],
   "source": [
    "#Input 'era' as 'historic' or 'modern'\n",
    "#Input value for tau (65 days)\n",
    "hist_DIC_value, hist_pco2_value = box_model_solution('historic', 65)\n",
    "mod_DIC_value, mod_pco2_value = box_model_solution('modern', 65)"
   ]
  },
  {
   "cell_type": "code",
   "execution_count": 19,
   "metadata": {},
   "outputs": [
    {
     "name": "stdout",
     "output_type": "stream",
     "text": [
      "Box model prediction of centennial change in pCO2 in Salish Sea = 185 uatm.\n"
     ]
    }
   ],
   "source": [
    "print('Box model prediction of centennial change in pCO2 in Salish Sea = '+str(round(mod_pco2_value - hist_pco2_value)) +' uatm.')"
   ]
  }
 ],
 "metadata": {
  "kernelspec": {
   "display_name": "Python 3 (ipykernel)",
   "language": "python",
   "name": "python3"
  },
  "language_info": {
   "codemirror_mode": {
    "name": "ipython",
    "version": 3
   },
   "file_extension": ".py",
   "mimetype": "text/x-python",
   "name": "python",
   "nbconvert_exporter": "python",
   "pygments_lexer": "ipython3",
   "version": "3.9.12"
  }
 },
 "nbformat": 4,
 "nbformat_minor": 4
}
