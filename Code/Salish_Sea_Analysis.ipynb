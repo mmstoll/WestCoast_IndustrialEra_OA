{
 "cells": [
  {
   "cell_type": "markdown",
   "metadata": {
    "tags": []
   },
   "source": [
    "# Geochemical Estimates of 20th Century Acidification in the Salish Sea\n",
    "### Figure Content:\n",
    " - **Extended Data Figure 3:** Centennial changes in $p$CO$_2$ and pH in the Salish Sea\n",
    " ---------"
   ]
  },
  {
   "cell_type": "code",
   "execution_count": 1,
   "metadata": {},
   "outputs": [],
   "source": [
    "import sys\n",
    "import os\n",
    "import importlib\n",
    "import numpy as np\n",
    "import pandas as pd\n",
    "\n",
    "import matplotlib.pyplot as plt\n",
    "from matplotlib.patches import Patch\n",
    "from matplotlib.lines import Line2D\n",
    "\n",
    "import math\n",
    "from scipy import optimize\n",
    "\n",
    "import warnings\n",
    "warnings.filterwarnings('ignore')"
   ]
  },
  {
   "cell_type": "markdown",
   "metadata": {},
   "source": [
    "Import functions to clean up model output and locate coral sites"
   ]
  },
  {
   "cell_type": "code",
   "execution_count": 2,
   "metadata": {},
   "outputs": [
    {
     "data": {
      "text/plain": [
       "<module 'WOAC_Functions_Manuscript' from '/raid/mmstoll/Code/Industrial_Era_OA_Code/../Functions/WOAC_Functions_Manuscript.py'>"
      ]
     },
     "execution_count": 2,
     "metadata": {},
     "output_type": "execute_result"
    }
   ],
   "source": [
    "sys.path.insert(1, '../Functions')\n",
    "\n",
    "import WOAC_Functions_Manuscript as WOAC_fxns\n",
    "importlib.reload(WOAC_fxns)"
   ]
  },
  {
   "cell_type": "markdown",
   "metadata": {
    "tags": []
   },
   "source": [
    "# Open files"
   ]
  },
  {
   "cell_type": "code",
   "execution_count": 3,
   "metadata": {},
   "outputs": [],
   "source": [
    "file_coral_d11B_info = '/home/mmstoll/raid/Data/Coral_Data/BGC_Model_Coral_d11B_Data.csv'\n",
    "file_SalishSea_obs_data = '/home/mmstoll/raid/Data/Coral_Data/WOAC_DIC_Alk_pH_data_Mary_Margaret_Stoll_2008-2018.xlsx'\n",
    "file_upwelling_properties = '/home/mmstoll/raid/Data/Coral_Data/Upwelling_Properties.csv'"
   ]
  },
  {
   "cell_type": "code",
   "execution_count": 4,
   "metadata": {},
   "outputs": [],
   "source": [
    "compiled_d11B_data = pd.read_csv(file_coral_d11B_info)\n",
    "compiled_d11B_data = compiled_d11B_data.loc[:, ~compiled_d11B_data.columns.str.contains('^Unnamed')]\n",
    "compiled_d11B_data = compiled_d11B_data.dropna()"
   ]
  },
  {
   "cell_type": "markdown",
   "metadata": {},
   "source": [
    "Historic and modern coral skeletal d11B data from the Salish Sea"
   ]
  },
  {
   "cell_type": "code",
   "execution_count": 5,
   "metadata": {},
   "outputs": [],
   "source": [
    "SS_d11B_hist = compiled_d11B_data.loc[(compiled_d11B_data['Salish_vs_West_Coast'] == 'Salish Sea') & (compiled_d11B_data['Historic_vs_Modern'] == 'Historic')]\n",
    "SS_d11B_mod = compiled_d11B_data.loc[(compiled_d11B_data['Salish_vs_West_Coast'] == 'Salish Sea') & (compiled_d11B_data['Historic_vs_Modern'] == 'Modern')]"
   ]
  },
  {
   "cell_type": "markdown",
   "metadata": {},
   "source": [
    "Observational bottle data from the Salish Sea collected by the Washington Ocean Acidification Center"
   ]
  },
  {
   "cell_type": "code",
   "execution_count": 6,
   "metadata": {},
   "outputs": [],
   "source": [
    "SS_obs = pd.read_excel(file_SalishSea_obs_data, engine = 'openpyxl')\n",
    "SS_obs = SS_obs[(SS_obs['DIC_UMOL_KG'].notna()) & (SS_obs['pHTOTAL'].notna())]"
   ]
  },
  {
   "cell_type": "markdown",
   "metadata": {},
   "source": [
    "Modern oceanographic properties of the California Current water mass that upwells and enters the Strait of Juan de Fuca\n",
    " - 7-year average from modern model simulation 2000-2007\n",
    " - 60 km x 60 km area\n",
    " - Depth = 150 - 200m"
   ]
  },
  {
   "cell_type": "code",
   "execution_count": 7,
   "metadata": {},
   "outputs": [],
   "source": [
    "upwelling_properties = pd.read_csv(file_upwelling_properties, index_col=[0])"
   ]
  },
  {
   "cell_type": "markdown",
   "metadata": {
    "tags": []
   },
   "source": [
    "# Calculate coral-based $\\Delta$pH  and $\\Delta$$p$CO$_2$ in the Salish Sea"
   ]
  },
  {
   "cell_type": "markdown",
   "metadata": {
    "jp-MarkdownHeadingCollapsed": true,
    "tags": []
   },
   "source": [
    "### Calculate WOAC bottle data averages at Admiralty Inlet (station 21)"
   ]
  },
  {
   "cell_type": "code",
   "execution_count": 8,
   "metadata": {},
   "outputs": [],
   "source": [
    "def f_tot(temp,sal,DIC,Alk):\n",
    "    TK = temp + 273.15 #temperature in Celsius into Kelvin\t\n",
    "    I = 19.924*sal/(1000 - 1.0049 * sal) #molal ionic strength\n",
    "    R = 83.131 #Gas constant (units? cm^3 bar mol-1 deg-1)\n",
    "    \n",
    "    #Conservative seawater components as a function of salinity\n",
    "    B_T = 0.000416 * sal / 35 #total boron\n",
    "    F_T = 7e-5 * sal / 35 #total HF and F-\n",
    "    # SO4_T = .0293*Sal/35 #total sulfate species from Millero 1995\n",
    "    SO4_T = .02824 * sal / 35 #total sulfate species from DOE 1994, and Dickson/Millero's refitting of Mehrbach\n",
    "    Ca_T = .01028 * sal / 35\n",
    "\n",
    "    #1st dissociation constant for seawater as a function of T and S\n",
    "    #Total Scale\n",
    "    #Merhrbach et al 1973's values (refit by Dickon and Millero 1987) \n",
    "    #but given on the total scale by Lueker et al. (2000)\n",
    "    tempA = -0.011555 * sal + 0.0001152 * sal**2\n",
    "    pK1_star = -61.2172 + tempA + 3633.86/TK + 9.6777*math.log(TK)\n",
    "    K_1_star = 10**(-1*pK1_star)\n",
    "    K_1 = K_1_star\n",
    "\n",
    "    #2nd dissociation constant for seawater as a function of T and S\n",
    "    #Total Scale\n",
    "    #Merhrbach et al 1973's values (refit by Dickon and Millero 1987) \n",
    "    #but given on the total scale by Lueker et al. (2000)    \n",
    "    tempA = -.01781*sal + 0.0001122*sal**2\n",
    "    pK2_star = 471.78/TK + 25.9290 + tempA - 3.16967*math.log(TK)\n",
    "    K_2_star = 10**(-1*pK2_star)\n",
    "    K_2 = K_2_star\n",
    "\n",
    "    #dissociation contant for H2O as recommended by DOE (1994)\n",
    "    #Total Scale\n",
    "    temp1 = 148.96502-13847.26/TK-23.6521*math.log(TK)\n",
    "    temp2 = (118.67/TK-5.977+1.0495*math.log(TK))*math.sqrt(sal)-0.01615*sal\n",
    "    K_W_star = math.exp(temp1 + temp2)\n",
    "    pKW_star =-1*math.log(K_W_star,10)\n",
    "    K_W = K_W_star\n",
    "\n",
    "    #Boric Acid\n",
    "    #as reported in Millero 1995 \n",
    "    #from Dickson Deep-Sea Res 1990 (Roy 1993 agrees)\n",
    "    #both are in synthetic seawater without F-\n",
    "    temp1 = (-8966.90-2890.53*math.sqrt(sal)-77.942*sal+1.728*(sal**(3/2))-0.0996*(sal**2))/TK\n",
    "    temp2 = 148.0248+137.1942*math.sqrt(sal)+1.62142*sal\n",
    "    temp3 = -math.log(TK)*(24.4344+25.085*math.sqrt(sal)+0.2474*sal)+0.053105*math.sqrt(sal)*TK\n",
    "    K_B_star = math.exp(temp1+temp2+temp3)\n",
    "    pKB_star =-1*math.log(K_B_star,10)\n",
    "    K_B = K_B_star\n",
    "\n",
    "    \n",
    "    def f_zero(x):\n",
    "        denom = (x**2+K_1*x+K_1*K_2)\n",
    "        Alpha0 = (x**2)/denom\n",
    "        Alpha1 = (K_1*x)/denom\n",
    "        Alpha2 = (K_1*K_2)/denom\n",
    "    \n",
    "        return((Alpha1*DIC) + (2*Alpha2*DIC) + (K_W/x) + (B_T/(1+x/K_B)) - Alk - x) #equation that equals 0\n",
    "    \n",
    "    root = optimize.bisect(f_zero,1*10**-16,1) #calculates root of the equation returned by f_zero\n",
    "    ph_value = (-math.log(root,10)) #calculates and returns the pH values\n",
    "    return(ph_value)"
   ]
  },
  {
   "cell_type": "code",
   "execution_count": 9,
   "metadata": {},
   "outputs": [],
   "source": [
    "stn_21_obs = SS_obs.loc[SS_obs['STN'] == 21] #WOAC station 21 is closest to Admiralty Inlet, where a majority of Salish Sea corals are located\n",
    "stn_21_obs = stn_21_obs.loc[(SS_obs['MONTH'] == 7) & (SS_obs['PRESS (dbar)'] >50)] #Select July data at a depth > 50dbar, where corals reside\n",
    "\n",
    "summ_temp_obs = stn_21_obs['TEMP (C, ITS-90)'].mean()\n",
    "summ_sal_obs = stn_21_obs['SAL (PSS-78)'].mean()\n",
    "summ_DIC_obs = stn_21_obs['DIC_UMOL_KG'].mean()/(1*10**6)\n",
    "summ_TA_obs = stn_21_obs['TA_UMOL_KG'].mean()/(1*10**6)\n",
    "summ_pH_obs =  f_tot(summ_temp_obs, summ_sal_obs, summ_DIC_obs, summ_TA_obs) #total scale"
   ]
  },
  {
   "cell_type": "code",
   "execution_count": 10,
   "metadata": {},
   "outputs": [],
   "source": [
    "indices = ['summer_avg']\n",
    "columns = ['DIC_avg', 'pH_avg', 'alk_avg','temp_avg', 'sal_avg']\n",
    "seasonal_avgs = pd.DataFrame(index=indices, columns=columns)"
   ]
  },
  {
   "cell_type": "code",
   "execution_count": 11,
   "metadata": {},
   "outputs": [],
   "source": [
    "seasonal_avgs.at['summer_avg','DIC_avg'] = (summ_DIC_obs) * 10**6\n",
    "seasonal_avgs.at['summer_avg','pH_avg'] = (summ_pH_obs)\n",
    "seasonal_avgs.at['summer_avg','alk_avg'] = (summ_TA_obs) * 10**6\n",
    "seasonal_avgs.at['summer_avg','temp_avg'] = (summ_temp_obs)\n",
    "seasonal_avgs.at['summer_avg','sal_avg'] = (summ_sal_obs)"
   ]
  },
  {
   "cell_type": "code",
   "execution_count": 12,
   "metadata": {},
   "outputs": [],
   "source": [
    "#Values from WOAC station 21 Supplement Table 2.1; annual averages of seasonal fitted curve\n",
    "annual_avg_ph = 7.73 #total scale\n",
    "annual_avg_DIC = 2116 #umol/kg"
   ]
  },
  {
   "cell_type": "markdown",
   "metadata": {
    "jp-MarkdownHeadingCollapsed": true,
    "tags": []
   },
   "source": [
    "### Calculate pH value for every skeletal $\\delta$$^1$$^1$B sample\n",
    " - $\\delta$$^1$$^1$B - pH relationship detailed in Methods"
   ]
  },
  {
   "cell_type": "code",
   "execution_count": 13,
   "metadata": {},
   "outputs": [],
   "source": [
    "SS_hist_DIC = 2093 #umol/kg, summertime historic estimate of DIC at Admiralty Inlet (Feely et al. 2010)\n",
    "SS_mod_DIC = float(seasonal_avgs['DIC_avg']) #umol/kg, summertime modern average of bottle data at WOAC Station 21 near Admiralty Inlet >50m depth"
   ]
  },
  {
   "cell_type": "code",
   "execution_count": 14,
   "metadata": {},
   "outputs": [],
   "source": [
    "SS_d11B_hist_DIC_correction = ((SS_hist_DIC - 2500)/1000)*1.08 \n",
    "SS_d11B_mod_DIC_correction = ((SS_mod_DIC - 2500)/1000)*1.08\n",
    "SS_d11B_hist.loc[:,'d11B_DIC_corrected'] = SS_d11B_hist['d11B'] + SS_d11B_hist_DIC_correction\n",
    "SS_d11B_mod.loc[:,'d11B_DIC_corrected'] = SS_d11B_mod['d11B'] + SS_d11B_mod_DIC_correction"
   ]
  },
  {
   "cell_type": "code",
   "execution_count": 15,
   "metadata": {},
   "outputs": [],
   "source": [
    "#Transform d11B data into pH (total scale)\n",
    "SS_d11B_hist.loc[:,'pH_Tot'] = (SS_d11B_hist['d11B_DIC_corrected']+ 9.896) / 4.328\n",
    "SS_d11B_mod.loc[:,'pH_Tot'] = (SS_d11B_mod['d11B_DIC_corrected']+ 9.896) / 4.328"
   ]
  },
  {
   "cell_type": "markdown",
   "metadata": {},
   "source": [
    "The modern WOAC observational data provides additional information that we can use to better calibrate our proxy and to estimate ΔpH for the Salish Sea. Comparing modern observational DIC and pH data (red circle, Extended Data Figure 3, Supplement 2.2) to modern δ11B (grey line, Extended Data Figure 3), we found that a pH offset of -0.10 was necessary to align the two datasets. We attribute this difference to culture conditions not exactly matching the natural wild coral setting. To calibrate the coral data, we apply this pH offset of -0.10 to all our coral data, including our historic and modern records from the Salish Sea and historic records from the US West Coast. This offset does not impact the interpretation of data from the Salish Sea where we have historic-modern pairs, but applying this same offset to all coral samples anchors the historical West Coast coral data so they can be accurately compared to modeled historic values and other proxies. "
   ]
  },
  {
   "cell_type": "code",
   "execution_count": 16,
   "metadata": {},
   "outputs": [],
   "source": [
    "offset = round(SS_d11B_mod['pH_Tot'].mean() - float(seasonal_avgs['pH_avg']),3)"
   ]
  },
  {
   "cell_type": "code",
   "execution_count": 17,
   "metadata": {},
   "outputs": [],
   "source": [
    "#Add pH offset to coral data\n",
    "SS_d11B_hist.loc[:,'pH_Tot_Summ_Offset'] = (SS_d11B_hist['pH_Tot'] - offset)\n",
    "SS_d11B_mod.loc[:,'pH_Tot_Summ_Offset'] = (SS_d11B_mod['pH_Tot']- offset)"
   ]
  },
  {
   "cell_type": "markdown",
   "metadata": {
    "jp-MarkdownHeadingCollapsed": true,
    "tags": []
   },
   "source": [
    "### Calculate $p$CO$_2$ value for every skeletal $\\delta$$^1$$^1$B sample"
   ]
  },
  {
   "cell_type": "markdown",
   "metadata": {
    "jp-MarkdownHeadingCollapsed": true,
    "tags": []
   },
   "source": [
    "Solver function to calculate $p$CO$_2$ from pH, DIC, temperature and salinity\n",
    " - **pH:**\n",
    "   - Calculated from skeletal $\\delta$$^1$$^1$B data and $\\delta$$^1$$^1$B - pH relationship, detailed in Methods\n",
    " - **DIC:**\n",
    "   - Historic: Summertime estimate of historic DIC at Admiralty Inlet (Feely et al. 2010)\n",
    "   - Modern: Summertime average of bottle data at WOAC Station 21 near Admiralty Inlet > 50m depth\n",
    " - **Temperature:**\n",
    "   - Summertime average of bottle data at WOAC Station 21 near Admiralty Inlet > 50m depth \n",
    " - **Salinity:**\n",
    "   - Summertime average of bottle data at WOAC Station 21 near Admiralty Inlet > 50m depth\n",
    "   \n",
    "*We assume that temperature and salinity remained constant over the past century. Realistic sensitivty analyses of change over the past century have little to no effect on the results. More details on the WOAC Station 21 data can be found in Supplementary Info Table 2.1.*"
   ]
  },
  {
   "cell_type": "code",
   "execution_count": 18,
   "metadata": {},
   "outputs": [],
   "source": [
    "def calc_pCO2(ph, DIC, temp, sal):\n",
    "    root = 10**-ph\n",
    "    TK = temp + 273.15 #temperature in Celsius into Kelvin\n",
    "\n",
    "    #1st dissociation constant for seawater as a function of T and S\n",
    "    #Total Scale\n",
    "    #Merhrbach et al 1973's values (refit by Dickon and Millero 1987) \n",
    "    #but given on the total scale by Lueker et al. (2000)\n",
    "    tempA = -0.011555 * sal + 0.0001152 * sal**2\n",
    "    pK1_star = -61.2172 + tempA + 3633.86/TK + 9.6777*math.log(TK)\n",
    "    K_1_star = 10**(-1*pK1_star)\n",
    "    K_1 = K_1_star\n",
    "\n",
    "    #2nd dissociation constant for seawater as a function of T and S\n",
    "    #Total Scale\n",
    "    #Merhrbach et al 1973's values (refit by Dickon and Millero 1987) \n",
    "    #but given on the total scale by Lueker et al. (2000)    \n",
    "    tempA = -.01781*sal + 0.0001122*sal**2\n",
    "    pK2_star = 471.78/TK + 25.9290 + tempA - 3.16967*math.log(TK)\n",
    "    K_2_star = 10**(-1*pK2_star)\n",
    "    K_2 = K_2_star\n",
    "\n",
    "    denom = (root**2 + K_1*root + K_1*K_2)\n",
    "    bicarbonate = DIC*10**6*K_1*root / denom\n",
    "    carbonate = DIC*10**6*K_1*K_2 / denom\n",
    "    CO2_star = (root*bicarbonate)/K_1\n",
    "\n",
    "    K_0 = math.exp(93.4517*(100/(temp+273.15)) - 60.2409 + 23.3585*math.log((temp+273.15)/100)+sal*(0.023517-0.023656*((temp+273.15)/100)+0.0047036*((temp+273.15)/100)**2))\n",
    "\n",
    "    pCO2 = CO2_star / K_0\n",
    "    \n",
    "    return(pCO2)"
   ]
  },
  {
   "cell_type": "code",
   "execution_count": 19,
   "metadata": {},
   "outputs": [],
   "source": [
    "pCO2_hist_array = []\n",
    "for i in range(0,len(SS_d11B_hist['d11B'])):\n",
    "    ph_value = SS_d11B_hist['pH_Tot_Summ_Offset'].iloc[i]\n",
    "    DIC_hist = SS_hist_DIC/(10**6) #units mol/kg\n",
    "    temp_hist = 9.3 #units C\n",
    "    sal_hist = 31.8 #units PSU\n",
    "    pCO2_hist = calc_pCO2(ph_value, DIC_hist, temp_hist, sal_hist)\n",
    "    pCO2_hist_array.append(float(pCO2_hist))\n",
    "SS_d11B_hist.loc[:,'pCO2'] = pCO2_hist_array"
   ]
  },
  {
   "cell_type": "code",
   "execution_count": 20,
   "metadata": {},
   "outputs": [],
   "source": [
    "pCO2_mod_array = []\n",
    "for i in range(0,len(SS_d11B_mod['d11B'])):\n",
    "    ph_value = SS_d11B_mod['pH_Tot_Summ_Offset'].iloc[i]\n",
    "    DIC_mod = SS_mod_DIC/(10**6) #units mol/kg\n",
    "    temp_mod = 9.3 #units C\n",
    "    sal_mod = 31.8 #units PSU\n",
    "    pCO2_mod = calc_pCO2(ph_value, DIC_mod, temp_mod, sal_mod)\n",
    "    pCO2_mod_array.append(float(pCO2_mod))\n",
    "SS_d11B_mod.loc[:,'pCO2'] = pCO2_mod_array"
   ]
  },
  {
   "cell_type": "markdown",
   "metadata": {
    "tags": []
   },
   "source": [
    "#### Calculate $\\Delta$pH and $\\Delta$$p$CO$_2$ in the Salish Sea "
   ]
  },
  {
   "cell_type": "markdown",
   "metadata": {},
   "source": [
    "Coral-based estimate of $\\Delta$$p$CO$_2$"
   ]
  },
  {
   "cell_type": "code",
   "execution_count": 21,
   "metadata": {},
   "outputs": [
    {
     "name": "stdout",
     "output_type": "stream",
     "text": [
      "The coral-based estimate of delta pCO2 in the Salish Sea over the 20th century = 172 uatm.\n"
     ]
    }
   ],
   "source": [
    "delta_pCO2 = SS_d11B_mod['pCO2'].mean() - SS_d11B_hist['pCO2'].mean()\n",
    "print('The coral-based estimate of delta pCO2 in the Salish Sea over the 20th century = '+str(int(delta_pCO2)) +' uatm.')"
   ]
  },
  {
   "cell_type": "markdown",
   "metadata": {},
   "source": [
    "Standard error of the difference between means ($\\Delta$$p$CO$_2$)"
   ]
  },
  {
   "cell_type": "code",
   "execution_count": 22,
   "metadata": {},
   "outputs": [],
   "source": [
    "#Standard error modern SS coral data\n",
    "SD_mod = np.std(SS_d11B_mod['pCO2'])\n",
    "SE_mod = SD_mod/(np.sqrt(SS_d11B_mod['pCO2'].count()))"
   ]
  },
  {
   "cell_type": "code",
   "execution_count": 23,
   "metadata": {},
   "outputs": [],
   "source": [
    "#Standard error historic SS coral data\n",
    "SD_hist = np.std(SS_d11B_hist['pCO2'])\n",
    "SE_hist = SD_hist/(np.sqrt(SS_d11B_hist['pCO2'].count()))"
   ]
  },
  {
   "cell_type": "code",
   "execution_count": 24,
   "metadata": {},
   "outputs": [
    {
     "name": "stdout",
     "output_type": "stream",
     "text": [
      "The standard error of the difference between means (delta pCO2) = 41 uatm.\n"
     ]
    }
   ],
   "source": [
    "SE_diff = np.sqrt(SE_mod**2 + SE_hist**2)\n",
    "print('The standard error of the difference between means (delta pCO2) = '+str(int(SE_diff)) +' uatm.')"
   ]
  },
  {
   "cell_type": "markdown",
   "metadata": {},
   "source": [
    "Coral-based estimate of $\\Delta$pH"
   ]
  },
  {
   "cell_type": "code",
   "execution_count": 25,
   "metadata": {},
   "outputs": [
    {
     "name": "stdout",
     "output_type": "stream",
     "text": [
      "The coral-based estimate of delta pH in the Salish Sea over the 20th century = -0.095.\n"
     ]
    }
   ],
   "source": [
    "mod_ph = ((SS_d11B_mod['d11B_DIC_corrected'].mean()+ 9.896) / 4.328)\n",
    "hist_ph = ((SS_d11B_hist['d11B_DIC_corrected'].mean()+ 9.896) / 4.328)\n",
    "\n",
    "delta_ph = float(mod_ph-hist_ph)\n",
    "print('The coral-based estimate of delta pH in the Salish Sea over the 20th century = '+str(round(delta_ph,3))+'.')"
   ]
  },
  {
   "cell_type": "markdown",
   "metadata": {
    "tags": []
   },
   "source": [
    "# Visualize Salish Sea coral data in pH vs DIC space"
   ]
  },
  {
   "cell_type": "markdown",
   "metadata": {
    "jp-MarkdownHeadingCollapsed": true,
    "tags": []
   },
   "source": [
    "#### Calculate coral-based pH over a range of DIC values for Extended Data Figure 3"
   ]
  },
  {
   "cell_type": "code",
   "execution_count": 26,
   "metadata": {},
   "outputs": [],
   "source": [
    "DIC_range = np.linspace(1950,2250,301) #umol/kg"
   ]
  },
  {
   "cell_type": "code",
   "execution_count": 27,
   "metadata": {},
   "outputs": [],
   "source": [
    "def calc_pH_ranges(DIC_range, d11B_value, df):\n",
    "\n",
    "    pop_std_dev = 0.37 #Value obtained from d11B_Raw_Data.ipynb\n",
    "\n",
    "    pH_ranges = pd.DataFrame(columns = ['pH_range','pH_range_low','pH_range_high'], index = DIC_range)\n",
    "    \n",
    "    #Equations describing skeletal d11B-pH relationship can be found in Methods \n",
    "    delta_d11B_range = ((DIC_range - 2500)/1000)*1.08  \n",
    "    pH_range = (d11B_value + delta_d11B_range + 9.896) / 4.328\n",
    "\n",
    "    d11B_value_low = d11B_value - (pop_std_dev/np.sqrt(df['d11B'].count()))\n",
    "    d11B_value_high = d11B_value + (pop_std_dev/np.sqrt(df['d11B'].count()))\n",
    "    pH_range_low = (d11B_value_low + delta_d11B_range + 9.896) / 4.328\n",
    "    pH_range_high = (d11B_value_high + delta_d11B_range + 9.896) / 4.328\n",
    "\n",
    "    pH_ranges.loc[:,'pH_range'] = pH_range\n",
    "    pH_ranges.loc[:,'pH_range_low'] = pH_range_low\n",
    "    pH_ranges.loc[:,'pH_range_high'] = pH_range_high\n",
    "\n",
    "    return(pH_ranges)"
   ]
  },
  {
   "cell_type": "code",
   "execution_count": 28,
   "metadata": {},
   "outputs": [],
   "source": [
    "SS_historic_d11B = SS_d11B_hist['d11B'].mean()\n",
    "SS_modern_d11B = SS_d11B_mod['d11B'].mean()"
   ]
  },
  {
   "cell_type": "code",
   "execution_count": 29,
   "metadata": {},
   "outputs": [],
   "source": [
    "pH_ranges_hist = calc_pH_ranges(DIC_range, SS_historic_d11B, SS_d11B_hist)\n",
    "pH_ranges_mod = calc_pH_ranges(DIC_range, SS_modern_d11B, SS_d11B_mod)"
   ]
  },
  {
   "cell_type": "markdown",
   "metadata": {
    "tags": []
   },
   "source": [
    "#### Calculate process lines to add context to Extended Data Figure 3\n",
    " - **Processes:**\n",
    "   - Anthropogenic Carbon Invasion\n",
    "   - Photosynthesis/Respiration\n",
    "   - Calcification/Dissolution\n",
    "   - Mixing/Upwelling"
   ]
  },
  {
   "cell_type": "code",
   "execution_count": 30,
   "metadata": {},
   "outputs": [],
   "source": [
    "def calc_theory_args(seasonal_avgs, DIC_range, upwelling_properties, season):\n",
    "    pH_calc_invasion = WOAC_fxns.CO2_invasion_calc(seasonal_avgs, DIC_range, season)\n",
    "    pH_calc_respiration = WOAC_fxns.CO2_respiration_calc(seasonal_avgs, season)\n",
    "    pH_calc_calcification = WOAC_fxns.CO2_calcification_calc(seasonal_avgs, season)\n",
    "    pH_calc_upwelling, m_mix, b_mix = WOAC_fxns.CO2_upwelling_calc(seasonal_avgs, upwelling_properties, season)\n",
    "    return(pH_calc_invasion, pH_calc_respiration, pH_calc_calcification, pH_calc_upwelling, m_mix, b_mix)\n",
    "\n",
    "pH_calc_invasion, pH_calc_respiration, pH_calc_calcification, pH_calc_upwelling, m_mix, b_mix = calc_theory_args(seasonal_avgs, DIC_range, upwelling_properties, 'summer')"
   ]
  },
  {
   "cell_type": "markdown",
   "metadata": {
    "jp-MarkdownHeadingCollapsed": true,
    "tags": []
   },
   "source": [
    "#### Calculate lines of constant $p$CO$_2$ to add to Extended Data Figure 3"
   ]
  },
  {
   "cell_type": "code",
   "execution_count": 31,
   "metadata": {},
   "outputs": [],
   "source": [
    "def f_tot_pco2(temp, sal, DIC, pCO2):\n",
    "    TK = temp + 273.15 #temperature in Celsius into Kelvin\t\n",
    "    I = 19.924*sal/(1000 - 1.0049 * sal) #molal ionic strength\n",
    "    R = 83.131 #Gas constant (units? cm^3 bar mol-1 deg-1)\n",
    "    \n",
    "    #Conservative seawater components as a function of salinity\n",
    "    B_T = 0.000416 * sal / 35 #total boron\n",
    "    F_T = 7e-5 * sal / 35 #total HF and F-\n",
    "    # SO4_T = .0293*Sal/35 #total sulfate species from Millero 1995\n",
    "    SO4_T = .02824 * sal / 35 #total sulfate species from DOE 1994, and Dickson/Millero's refitting of Mehrbach\n",
    "    Ca_T = .01028 * sal / 35\n",
    "\n",
    "    #1st dissociation constant for seawater as a function of T and S\n",
    "    #Total Scale\n",
    "    #Merhrbach et al 1973's values (refit by Dickon and Millero 1987) \n",
    "    #but given on the total scale by Lueker et al. (2000)\n",
    "    tempA = -0.011555 * sal + 0.0001152 * sal**2\n",
    "    pK1_star = -61.2172 + tempA + 3633.86/TK + 9.6777*math.log(TK)\n",
    "    K_1_star = 10**(-1*pK1_star)\n",
    "    K_1 = K_1_star\n",
    "\n",
    "    #2nd dissociation constant for seawater as a function of T and S\n",
    "    #Total Scale\n",
    "    #Merhrbach et al 1973's values (refit by Dickon and Millero 1987) \n",
    "    #but given on the total scale by Lueker et al. (2000)    \n",
    "    tempA = -.01781*sal + 0.0001122*sal**2\n",
    "    pK2_star = 471.78/TK + 25.9290 + tempA - 3.16967*math.log(TK)\n",
    "    K_2_star = 10**(-1*pK2_star)\n",
    "    K_2 = K_2_star\n",
    "\n",
    "    #CO2 solubility in water\n",
    "    #Weiss 1974\n",
    "    K_0 = math.exp(93.4517*(100/(temp+273.15)) - 60.2409 +23.3585*math.log((temp+273.15)/100)+sal*(0.023517-0.023656*((temp+273.15)/100)+0.0047036*((temp+273.15)/100)**2))\n",
    "    \n",
    "    def f_zero(x):\n",
    "        denom = (x**2+K_1*x+K_1*K_2)\n",
    "        return((pCO2*K_0/(1*10**6))*(denom) - (DIC*x**2))\n",
    "\n",
    "\n",
    "    root = optimize.bisect(f_zero,1*10**-16,1) #calculates root of the equation returned by f_zero\n",
    "    ph_value = (-math.log(root,10)) #calculates and returns the pH values\n",
    "\n",
    "    return(ph_value)"
   ]
  },
  {
   "cell_type": "code",
   "execution_count": 32,
   "metadata": {},
   "outputs": [],
   "source": [
    "pCO2_range = [400,600,800,1000] #uatm\n",
    "pH_calc_tot = pd.DataFrame(columns = pCO2_range, index = DIC_range)\n",
    "\n",
    "temp = float(seasonal_avgs['temp_avg'])\n",
    "sal = float(seasonal_avgs['sal_avg'])\n",
    "\n",
    "for k in range (0,len(pCO2_range)):\n",
    "    pCO2 = pCO2_range[k]\n",
    "    for j in range(0,len(DIC_range)):\n",
    "        DIC = (DIC_range[j])/(1*10**6) #DIC must be in units mol/kg; converting from umol/kg\n",
    "        ph_value = f_tot_pco2(temp,sal,DIC,pCO2)\n",
    "        pH_calc_tot[pCO2].iloc[j] = ph_value #this pH is reported on the total scale"
   ]
  },
  {
   "cell_type": "markdown",
   "metadata": {
    "jp-MarkdownHeadingCollapsed": true,
    "tags": []
   },
   "source": [
    "#### Calculate centennial change in DIC assuming anthropogenic carbon invasion is primary process"
   ]
  },
  {
   "cell_type": "code",
   "execution_count": 33,
   "metadata": {},
   "outputs": [],
   "source": [
    "process = pH_calc_invasion\n",
    "\n",
    "idx_hist = np.argwhere(np.diff(np.sign(process.values.T - (pH_ranges_hist['pH_range']-offset).values))).flatten()\n",
    "idx_mod = np.argwhere(np.diff(np.sign(process.values.T - (pH_ranges_mod['pH_range']-offset).values))).flatten()"
   ]
  },
  {
   "cell_type": "code",
   "execution_count": 34,
   "metadata": {},
   "outputs": [
    {
     "name": "stdout",
     "output_type": "stream",
     "text": [
      "The 20th century change in DIC in the Salish Sea = 28 umol/kg.\n"
     ]
    }
   ],
   "source": [
    "modern_DIC = DIC_range[idx_mod[-1]]\n",
    "historic_DIC = DIC_range[idx_hist[-1]]\n",
    "\n",
    "print('The 20th century change in DIC in the Salish Sea = '+str(int(modern_DIC-historic_DIC))+' umol/kg.')"
   ]
  },
  {
   "cell_type": "markdown",
   "metadata": {
    "tags": []
   },
   "source": [
    "# Figures"
   ]
  },
  {
   "cell_type": "markdown",
   "metadata": {
    "tags": []
   },
   "source": [
    "### Extended Data Figure 3\n",
    "Centennial changes in $p$CO$_2$ and pH in the Salish Sea"
   ]
  },
  {
   "cell_type": "code",
   "execution_count": 35,
   "metadata": {},
   "outputs": [],
   "source": [
    "title_size = 16\n",
    "axis_size = 16\n",
    "cap_size = 6\n",
    "tick_size = 14\n",
    "legend_size = 12"
   ]
  },
  {
   "cell_type": "code",
   "execution_count": 36,
   "metadata": {},
   "outputs": [],
   "source": [
    "legend_elements = [Patch(facecolor = 'seagreen', label = 'Historic Coral', alpha = 0.6), \n",
    "                     Patch(facecolor = 'silver', label = 'Modern Coral', alpha = 0.6)]\n",
    "legend_elements_obs_data = [Line2D([0], [0], marker = 'o', markerfacecolor = 'red', markeredgecolor = 'k', markersize=10,\n",
    "                            markeredgewidth = 2, alpha = 0.7, ls = 'none', label = 'Summer Average'),\n",
    "                            Line2D([0], [0], marker = 'o', markerfacecolor = 'darkblue', markeredgecolor = 'k', markersize=10,\n",
    "                            markeredgewidth = 2, alpha = 0.7, ls = 'none', label = 'Annual Average')]\n",
    "legend_elements_processes = [Line2D([0], [0], color = 'blue', label = 'Anthropogenic Carbon', linewidth=2),\n",
    "                             Line2D([0], [0], color = 'green', label = 'Photosynthesis/Respiration', linewidth=2),\n",
    "                             Line2D([0], [0], color = 'gold', label = 'Upwelling Mixing', linewidth=2),\n",
    "                             Line2D([0], [0], color = 'red', label = 'Calcification/Dissolution', linewidth=2),\n",
    "                             Line2D([0], [0], color = 'k', label = 'Constant $\\it{p}$CO$_2$', linewidth=2, linestyle = '--')]"
   ]
  },
  {
   "cell_type": "code",
   "execution_count": 37,
   "metadata": {},
   "outputs": [],
   "source": [
    "legend_elements.extend(legend_elements_obs_data)\n",
    "legend_elements.extend(legend_elements_processes)"
   ]
  },
  {
   "cell_type": "code",
   "execution_count": 38,
   "metadata": {},
   "outputs": [
    {
     "data": {
      "text/plain": [
       "(1950.0, 2250.0)"
      ]
     },
     "execution_count": 38,
     "metadata": {},
     "output_type": "execute_result"
    },
    {
     "data": {
      "image/png": "[encoded data removed]",
      "text/plain": [
       "<Figure size 648x648 with 1 Axes>"
      ]
     },
     "metadata": {
      "needs_background": "light"
     },
     "output_type": "display_data"
    }
   ],
   "source": [
    "fig = plt.figure(figsize = (9,9))\n",
    "ax = fig.add_subplot(111)\n",
    "\n",
    "ax.plot(DIC_range, pH_ranges_hist['pH_range']-offset, color = 'seagreen', linewidth=2, label = 'Historic', zorder = 0)\n",
    "ax.plot(DIC_range, pH_ranges_mod['pH_range']-offset, color = 'silver', linewidth=2, label = 'Modern', zorder = 0)\n",
    "\n",
    "ax.fill_between(DIC_range, (pH_ranges_hist['pH_range_low']-offset).values.astype(np.float64),\n",
    "                (pH_ranges_hist['pH_range_high']-offset).values.astype(np.float64), color = 'seagreen', alpha = 0.3, zorder = 0)\n",
    "ax.fill_between(DIC_range, (pH_ranges_mod['pH_range_low']-offset).values.astype(np.float64),\n",
    "                (pH_ranges_mod['pH_range_high']-offset).values.astype(np.float64), color = 'silver', alpha = 0.3, zorder = 0)\n",
    "\n",
    "\n",
    "ax.scatter(seasonal_avgs['DIC_avg'], seasonal_avgs['pH_avg'], label = 'Summer Average', s = 100,\n",
    "           linewidth=2, facecolors='red', alpha = 0.7, edgecolors='black', zorder = 10)\n",
    "ax.scatter(annual_avg_DIC, annual_avg_ph, label = 'Annual Average', s = 100,\n",
    "           linewidth=2, facecolors='darkblue', alpha = 0.7, edgecolor='black', zorder = 10)\n",
    "\n",
    "\n",
    "for pCO2 in pCO2_range:\n",
    "    ax.plot(DIC_range, pH_calc_tot[pCO2], color = 'k', linestyle='--')\n",
    "    label = str(pCO2)+' $u$atm' \n",
    "    ax.annotate(label, xy = (2250, pH_calc_tot[pCO2].iloc[-1]), xytext=(-70, 5),textcoords='offset points',\n",
    "                        size = 12, zorder = 20)\n",
    "\n",
    "ax.plot(pH_calc_invasion.index, pH_calc_invasion['pH_calc_tot'], label = 'Calculated pH, CO2 Invasion', color = 'blue', zorder = 5)\n",
    "ax.plot(pH_calc_respiration.index, pH_calc_respiration['pH_calc_tot'], label = 'Calculated pH, Respiration', color = 'green', zorder = 5)\n",
    "ax.plot(pH_calc_calcification.index, pH_calc_calcification['pH_calc_tot'], label = 'Calculated pH, Calcification', color = 'red', zorder = 5)\n",
    "ax.plot(DIC_range, m_mix*DIC_range + b_mix, label = 'Calculated pH, Upwelling', color = 'gold', zorder = 5)    \n",
    "    \n",
    "ax.legend(prop={'size': legend_size}, bbox_to_anchor=(1.1, 1), handles = legend_elements)\n",
    "ax.set_xlabel('DIC ($\\mu$mol/kg)', size = axis_size)\n",
    "ax.set_ylabel('pH (Total Scale)', size = axis_size)\n",
    "plt.xticks(size = tick_size)\n",
    "plt.yticks(size = tick_size)\n",
    "ax.set_ylim(7.6, 8.1)\n",
    "ax.set_xlim(1950, 2250)"
   ]
  },
  {
   "cell_type": "code",
   "execution_count": null,
   "metadata": {},
   "outputs": [],
   "source": []
  }
 ],
 "metadata": {
  "kernelspec": {
   "display_name": "Python 3 (ipykernel)",
   "language": "python",
   "name": "python3"
  },
  "language_info": {
   "codemirror_mode": {
    "name": "ipython",
    "version": 3
   },
   "file_extension": ".py",
   "mimetype": "text/x-python",
   "name": "python",
   "nbconvert_exporter": "python",
   "pygments_lexer": "ipython3",
   "version": "3.9.12"
  }
 },
 "nbformat": 4,
 "nbformat_minor": 4
}
