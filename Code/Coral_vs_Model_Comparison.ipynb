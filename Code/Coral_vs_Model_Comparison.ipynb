{
 "cells": [
  {
   "cell_type": "markdown",
   "metadata": {
    "tags": []
   },
   "source": [
    "# Coral and Model Record Comparison Analyses\n",
    "### Figure Content:\n",
    " - **Main Text Figure 2:** Geochemical and model records of 20th century acidification in the California Current\n",
    " - **Extended Data Table 4:** West Coast coral $p$CO$_2$ and pH values (total scale) informed by skeletal δ11B\n",
    " --------------"
   ]
  },
  {
   "cell_type": "code",
   "execution_count": 1,
   "metadata": {},
   "outputs": [],
   "source": [
    "import sys\n",
    "import importlib\n",
    "import numpy as np\n",
    "import pandas as pd\n",
    "import xarray as xr\n",
    "import math\n",
    "\n",
    "import matplotlib.pyplot as plt\n",
    "import matplotlib.patches as patches\n",
    "from matplotlib.patches import Patch\n",
    "from matplotlib.lines import Line2D"
   ]
  },
  {
   "cell_type": "markdown",
   "metadata": {},
   "source": [
    "Import functions to clean up model output and locate coral sites"
   ]
  },
  {
   "cell_type": "code",
   "execution_count": 2,
   "metadata": {},
   "outputs": [
    {
     "data": {
      "text/plain": [
       "<module 'pH_Functions' from '/raid/mmstoll/Code/Industrial_Era_OA_Code/../Functions/pH_Functions.py'>"
      ]
     },
     "execution_count": 2,
     "metadata": {},
     "output_type": "execute_result"
    }
   ],
   "source": [
    "sys.path.insert(1, '../Functions')\n",
    "import Output_Cleanup_Functions as open_files\n",
    "importlib.reload(open_files)\n",
    "\n",
    "import Coral_Locations_Functions as coral_fxns\n",
    "importlib.reload(coral_fxns)\n",
    "\n",
    "import pH_Functions as ph_fxns\n",
    "importlib.reload(ph_fxns)"
   ]
  },
  {
   "cell_type": "markdown",
   "metadata": {
    "tags": []
   },
   "source": [
    "# Open files"
   ]
  },
  {
   "cell_type": "markdown",
   "metadata": {
    "tags": []
   },
   "source": [
    "#### Open model simulation files"
   ]
  },
  {
   "cell_type": "code",
   "execution_count": 3,
   "metadata": {},
   "outputs": [],
   "source": [
    "file_historic_12km = '/home/mmstoll/raid/Data/CCModel_Historic_Data/usw12_avg_ctracers_vintp_ROMS.nc'\n",
    "file_modern_12km = '/home/mmstoll/raid/Data/CCModel_Modern_Data/usw12_avg_ctracers_vintp.nc'"
   ]
  },
  {
   "cell_type": "code",
   "execution_count": 4,
   "metadata": {},
   "outputs": [],
   "source": [
    "ds_modern, ds_historic, month_list_modern, month_list_historic = open_files.open_files_12vs12(file_modern_12km, file_historic_12km)\n",
    "depth_list = open_files.depths()"
   ]
  },
  {
   "cell_type": "markdown",
   "metadata": {
    "tags": []
   },
   "source": [
    "Specify start and end dates for historic and modern model simulations"
   ]
  },
  {
   "cell_type": "code",
   "execution_count": 5,
   "metadata": {},
   "outputs": [],
   "source": [
    "date_index_modern_start = month_list_modern.index('December 2000')\n",
    "date_index_modern_end = month_list_modern.index('November 2007')\n",
    "date_index_historic_start = month_list_historic.index('December 1897')\n",
    "date_index_historic_end = month_list_historic.index('November 1904')"
   ]
  },
  {
   "cell_type": "markdown",
   "metadata": {
    "tags": []
   },
   "source": [
    "#### Open coral location and pH data"
   ]
  },
  {
   "cell_type": "code",
   "execution_count": 6,
   "metadata": {},
   "outputs": [],
   "source": [
    "file_coral_ph_data = '/home/mmstoll/raid/Data/Coral_Data/Manuscript_Coral_Data_BGC_Model.xlsx'"
   ]
  },
  {
   "cell_type": "code",
   "execution_count": 7,
   "metadata": {},
   "outputs": [],
   "source": [
    "coral_ph_data = pd.read_excel(file_coral_ph_data, engine = 'openpyxl')"
   ]
  },
  {
   "cell_type": "markdown",
   "metadata": {
    "tags": []
   },
   "source": [
    "# Perform calculations to obtain coral-based and model-based $p$CO$_2$ estimates"
   ]
  },
  {
   "cell_type": "markdown",
   "metadata": {
    "tags": []
   },
   "source": [
    "## Calculate historic and modern $p$CO$_2$ at coral locations predicted by **model simulations**"
   ]
  },
  {
   "cell_type": "markdown",
   "metadata": {
    "tags": []
   },
   "source": [
    "#### Function to calculate $p$CO$_2$ from pH and DIC"
   ]
  },
  {
   "cell_type": "code",
   "execution_count": 8,
   "metadata": {},
   "outputs": [],
   "source": [
    "def calc_pCO2(ph, DIC, temp, sal):\n",
    "    root = 10**-ph\n",
    "    TK = temp + 273.15 #temperature in Celsius into Kelvin\n",
    "\n",
    "    #1st dissociation constant for seawater as a function of T and S\n",
    "    #Total Scale\n",
    "    #Merhrbach et al 1973's values (refit by Dickon and Millero 1987) \n",
    "    #but given on the total scale by Lueker et al. (2000)\n",
    "    tempA = -0.011555 * sal + 0.0001152 * sal**2\n",
    "    pK1_star = -61.2172 + tempA + 3633.86/TK + 9.6777*math.log(TK)\n",
    "    K_1_star = 10**(-1*pK1_star)\n",
    "    K_1 = K_1_star\n",
    "\n",
    "    #2nd dissociation constant for seawater as a function of T and S\n",
    "    #Total Scale\n",
    "    #Merhrbach et al 1973's values (refit by Dickon and Millero 1987) \n",
    "    #but given on the total scale by Lueker et al. (2000)    \n",
    "    tempA = -.01781*sal + 0.0001122*sal**2\n",
    "    pK2_star = 471.78/TK + 25.9290 + tempA - 3.16967*math.log(TK)\n",
    "    K_2_star = 10**(-1*pK2_star)\n",
    "    K_2 = K_2_star\n",
    "\n",
    "    denom = (root**2 + K_1*root + K_1*K_2)\n",
    "    bicarbonate = DIC*10**6*K_1*root / denom\n",
    "    carbonate = DIC*10**6*K_1*K_2 / denom\n",
    "    CO2_star = (root*bicarbonate)/K_1\n",
    "\n",
    "    K_0 = math.exp(93.4517*(100/(temp+273.15)) - 60.2409 + 23.3585*math.log((temp+273.15)/100)+\n",
    "                   sal*(0.023517-0.023656*((temp+273.15)/100)+0.0047036*((temp+273.15)/100)**2))\n",
    "\n",
    "    pCO2 = CO2_star / K_0\n",
    "    \n",
    "    return(pCO2)"
   ]
  },
  {
   "cell_type": "markdown",
   "metadata": {
    "tags": []
   },
   "source": [
    "#### Calculate the model-based summertime $p$CO$_2$ average at each coral location"
   ]
  },
  {
   "cell_type": "code",
   "execution_count": 9,
   "metadata": {},
   "outputs": [],
   "source": [
    "month_start = 6\n",
    "month_end = 8"
   ]
  },
  {
   "cell_type": "code",
   "execution_count": 10,
   "metadata": {},
   "outputs": [],
   "source": [
    "def is_jja(month):\n",
    "        return (month >= month_start) & (month <= month_end)"
   ]
  },
  {
   "cell_type": "code",
   "execution_count": 11,
   "metadata": {},
   "outputs": [
    {
     "data": {
      "text/html": [
       "<div>\n",
       "<style scoped>\n",
       "    .dataframe tbody tr th:only-of-type {\n",
       "        vertical-align: middle;\n",
       "    }\n",
       "\n",
       "    .dataframe tbody tr th {\n",
       "        vertical-align: top;\n",
       "    }\n",
       "\n",
       "    .dataframe thead th {\n",
       "        text-align: right;\n",
       "    }\n",
       "</style>\n",
       "<table border=\"1\" class=\"dataframe\">\n",
       "  <thead>\n",
       "    <tr style=\"text-align: right;\">\n",
       "      <th></th>\n",
       "      <th>Historic Summer Mean 3x3</th>\n",
       "      <th>Modern Summer Mean 3x3</th>\n",
       "      <th>Mean 3x3 Summer Diff</th>\n",
       "    </tr>\n",
       "    <tr>\n",
       "      <th>CatalogID</th>\n",
       "      <th></th>\n",
       "      <th></th>\n",
       "      <th></th>\n",
       "    </tr>\n",
       "  </thead>\n",
       "  <tbody>\n",
       "    <tr>\n",
       "      <th>USNM 92621</th>\n",
       "      <td>547.530151</td>\n",
       "      <td>676.009521</td>\n",
       "      <td>128.479370</td>\n",
       "    </tr>\n",
       "    <tr>\n",
       "      <th>USNM 36416</th>\n",
       "      <td>750.169495</td>\n",
       "      <td>888.81958</td>\n",
       "      <td>138.650085</td>\n",
       "    </tr>\n",
       "    <tr>\n",
       "      <th>USNM 92625</th>\n",
       "      <td>485.199005</td>\n",
       "      <td>647.893921</td>\n",
       "      <td>162.694916</td>\n",
       "    </tr>\n",
       "    <tr>\n",
       "      <th>USNM 19233</th>\n",
       "      <td>610.45166</td>\n",
       "      <td>780.112915</td>\n",
       "      <td>169.661255</td>\n",
       "    </tr>\n",
       "    <tr>\n",
       "      <th>USNM 92624</th>\n",
       "      <td>554.851379</td>\n",
       "      <td>718.320923</td>\n",
       "      <td>163.469543</td>\n",
       "    </tr>\n",
       "    <tr>\n",
       "      <th>USNM 92623</th>\n",
       "      <td>554.851379</td>\n",
       "      <td>718.320923</td>\n",
       "      <td>163.469543</td>\n",
       "    </tr>\n",
       "    <tr>\n",
       "      <th>USNM 78638</th>\n",
       "      <td>492.092834</td>\n",
       "      <td>623.942688</td>\n",
       "      <td>131.849854</td>\n",
       "    </tr>\n",
       "    <tr>\n",
       "      <th>USNM 78640</th>\n",
       "      <td>455.889496</td>\n",
       "      <td>581.229126</td>\n",
       "      <td>125.339630</td>\n",
       "    </tr>\n",
       "    <tr>\n",
       "      <th>USNM 92622</th>\n",
       "      <td>624.263123</td>\n",
       "      <td>758.372437</td>\n",
       "      <td>134.109314</td>\n",
       "    </tr>\n",
       "  </tbody>\n",
       "</table>\n",
       "</div>"
      ],
      "text/plain": [
       "           Historic Summer Mean 3x3 Modern Summer Mean 3x3  \\\n",
       "CatalogID                                                    \n",
       "USNM 92621               547.530151             676.009521   \n",
       "USNM 36416               750.169495              888.81958   \n",
       "USNM 92625               485.199005             647.893921   \n",
       "USNM 19233                610.45166             780.112915   \n",
       "USNM 92624               554.851379             718.320923   \n",
       "USNM 92623               554.851379             718.320923   \n",
       "USNM 78638               492.092834             623.942688   \n",
       "USNM 78640               455.889496             581.229126   \n",
       "USNM 92622               624.263123             758.372437   \n",
       "\n",
       "            Mean 3x3 Summer Diff  \n",
       "CatalogID                         \n",
       "USNM 92621            128.479370  \n",
       "USNM 36416            138.650085  \n",
       "USNM 92625            162.694916  \n",
       "USNM 19233            169.661255  \n",
       "USNM 92624            163.469543  \n",
       "USNM 92623            163.469543  \n",
       "USNM 78638            131.849854  \n",
       "USNM 78640            125.339630  \n",
       "USNM 92622            134.109314  "
      ]
     },
     "execution_count": 11,
     "metadata": {},
     "output_type": "execute_result"
    }
   ],
   "source": [
    "model_pCO2 = pd.DataFrame(columns = ['Historic Summer Mean 3x3','Modern Summer Mean 3x3'], \n",
    "                           index = coral_ph_data['CatalogID'][:-1])\n",
    "\n",
    "parameter = 'pco2'\n",
    "\n",
    "for i in range(0,len(coral_ph_data['CatalogID'])-1):\n",
    "    key = coral_ph_data['CatalogID'][i]\n",
    "    site_lat = float(coral_ph_data['Latitude'][i])\n",
    "    site_lon = float(coral_ph_data['Longitude'][i])\n",
    "    site_depth = coral_ph_data['Depth(m)'][i]\n",
    "    rounded_depth = coral_fxns.round_depth(site_depth)\n",
    "    depth_index = depth_list.index(rounded_depth)\n",
    "    \n",
    "    case = 'modern'\n",
    "    iy_mod, ix_mod = coral_fxns.find_indices(case, ds_modern, site_lon, site_lat)\n",
    "    mod = ds_modern[parameter][date_index_modern_start:date_index_modern_end+1,depth_index,:,:]\n",
    "    summ_mod = mod.sel(time=is_jja(mod['time.month']))\n",
    "    \n",
    "    case = 'historic'\n",
    "    iy_hist, ix_hist = coral_fxns.find_indices(case, ds_historic, site_lon, site_lat)\n",
    "    hist = ds_historic[parameter][date_index_historic_start:date_index_historic_end+1,depth_index,:,:]\n",
    "    summ_hist = hist.sel(time=is_jja(hist['time.month']))\n",
    "    \n",
    "    #Calculate model pCO2 value in 3x3 grid box centered on coral location\n",
    "    mean_3x3_summ_mod = summ_mod[:,iy_mod-1:iy_mod+2,ix_mod-1:ix_mod+2].mean()\n",
    "    mean_3x3_summ_hist = summ_hist[:,iy_hist-1:iy_hist+2,ix_hist-1:ix_hist+2].mean()\n",
    "    \n",
    "    model_pCO2.loc[key,'Historic Summer Mean 3x3'] = float(mean_3x3_summ_hist)\n",
    "    model_pCO2.loc[key,'Modern Summer Mean 3x3'] = float(mean_3x3_summ_mod)\n",
    "    model_pCO2.loc[key,'Mean 3x3 Summer Diff'] = (float(mean_3x3_summ_mod)-float(mean_3x3_summ_hist))\n",
    "    \n",
    "model_pCO2"
   ]
  },
  {
   "cell_type": "markdown",
   "metadata": {
    "tags": []
   },
   "source": [
    "#### Add depth corrections to the coral locations that are in between depth bins\n",
    "The model has depth resolution increments of 25 meters. Interpolate depths for locations in between depth bins\n",
    " - USNM 92621 - 62 meters\n",
    "   - Closest bins = 50 & 75 meters (depth indices = 2 & 3)\n",
    " - USNM 36416 - 113 meters\n",
    "   - Closest bins = 100 & 125 meters (depth indices = 4 & 5)\n",
    " - USNM 92625 - 62 meters \n",
    "   - Closest bins = 50 & 75 meters (depth indices = 2 & 3)"
   ]
  },
  {
   "cell_type": "code",
   "execution_count": 12,
   "metadata": {},
   "outputs": [],
   "source": [
    "century_change = []\n",
    "box_length = 0\n",
    "\n",
    "mod_dict = {}\n",
    "hist_dict = {}\n",
    "keys = coral_ph_data['CatalogID']\n",
    "\n",
    "for i in range(0,len(coral_ph_data['CatalogID'])):\n",
    "    site_lat = float(coral_ph_data['Latitude'][i])\n",
    "    site_lon = float(coral_ph_data['Longitude'][i])\n",
    "    \n",
    "    case = 'modern'\n",
    "    iy_mod, ix_mod = coral_fxns.find_indices(case, ds_modern, site_lon, site_lat)\n",
    "    iy_hist, ix_hist = coral_fxns.find_indices(case, ds_historic, site_lon, site_lat)\n",
    "    \n",
    "    prof_mod = ph_fxns.averaged_parameters_summer(ds_modern, iy_mod, ix_mod, box_length, date_index_modern_start, date_index_modern_end, month_start, month_end)\n",
    "    prof_hist = ph_fxns.averaged_parameters_summer(ds_historic, iy_hist, ix_hist, box_length, date_index_modern_start, date_index_modern_end, month_start, month_end)\n",
    "    \n",
    "    key = keys[i]\n",
    "    mod_dict[key] = prof_mod\n",
    "    hist_dict[key] = prof_hist"
   ]
  },
  {
   "cell_type": "code",
   "execution_count": 13,
   "metadata": {
    "scrolled": true
   },
   "outputs": [],
   "source": [
    "#SUMMERTIME AVERAGE DEPTH CORRECTIONS\n",
    "\n",
    "mod_correction_USNM92621 = ((mod_dict['USNM 92621']['pco2'][3]-mod_dict['USNM 92621']['pco2'][2])/2)\n",
    "hist_correction_USNM92621 = ((hist_dict['USNM 92621']['pco2'][3]-hist_dict['USNM 92621']['pco2'][2])/2)\n",
    "\n",
    "mod_correction_USNM36416 = ((mod_dict['USNM 36416']['pco2'][5]-mod_dict['USNM 36416']['pco2'][4])/2)\n",
    "hist_correction_USNM36416 = ((hist_dict['USNM 36416']['pco2'][5]-hist_dict['USNM 36416']['pco2'][4])/2)\n",
    "\n",
    "mod_correction_USNM92625 = ((mod_dict['USNM 92625']['pco2'][3]-mod_dict['USNM 92625']['pco2'][2])/2)\n",
    "hist_correction_USNM92625 = ((hist_dict['USNM 92625']['pco2'][3]-hist_dict['USNM 92625']['pco2'][2])/2)\n",
    "\n",
    "mod_correction_USNM19274 = ((mod_dict['USNM 19274']['pco2'][4]-mod_dict['USNM 19274']['pco2'][3])/3.5)\n",
    "hist_correction_USNM19274 = ((hist_dict['USNM 19274']['pco2'][4]-hist_dict['USNM 19274']['pco2'][3])/3.5)"
   ]
  },
  {
   "cell_type": "code",
   "execution_count": 14,
   "metadata": {},
   "outputs": [],
   "source": [
    "#ADD DEPTH CORRECTION TO MODEL ESTIMATES OF PCO2\n",
    "\n",
    "depth_correction_hist = []\n",
    "depth_correction_mod = []\n",
    "\n",
    "for key in coral_ph_data['CatalogID'][:-1]:\n",
    "    if key == 'USNM 92621':\n",
    "        pco2_value_mod = float(model_pCO2['Modern Summer Mean 3x3'][key] + mod_correction_USNM92621)\n",
    "        pco2_value_hist = float(model_pCO2['Historic Summer Mean 3x3'][key] + hist_correction_USNM92621)\n",
    "\n",
    "    elif key == 'USNM 36416':\n",
    "        pco2_value_mod = float(model_pCO2['Modern Summer Mean 3x3'][key] - mod_correction_USNM36416)\n",
    "        pco2_value_hist = float(model_pCO2['Historic Summer Mean 3x3'][key] - hist_correction_USNM36416)\n",
    "\n",
    "    elif key == 'USNM 92625':\n",
    "        pco2_value_mod = float(model_pCO2['Modern Summer Mean 3x3'][key] + mod_correction_USNM92625)\n",
    "        pco2_value_hist = float(model_pCO2['Historic Summer Mean 3x3'][key] + hist_correction_USNM92625)\n",
    "    \n",
    "    elif key == 'USNM 19274':\n",
    "        pco2_value_mod = float(model_pCO2['Modern Summer Mean 3x3'][key] + mod_correction_USNM19274)\n",
    "        pco2_value_hist = float(model_pCO2['Historic Summer Mean 3x3'][key] + hist_correction_USNM19274)\n",
    "        \n",
    "    else:\n",
    "        pco2_value_mod = float(model_pCO2['Modern Summer Mean 3x3'][key])\n",
    "        pco2_value_hist = float(model_pCO2['Historic Summer Mean 3x3'][key])\n",
    "\n",
    "    depth_correction_mod.append(pco2_value_mod)\n",
    "    depth_correction_hist.append(pco2_value_hist)\n",
    "\n",
    "model_pCO2['Historic Summer Mean 3x3 Depth Correction'] = depth_correction_hist\n",
    "model_pCO2['Modern Summer Mean 3x3 Depth Correction'] = depth_correction_mod\n",
    "model_pCO2['Mean 3x3 Summer Diff Depth Correction'] = np.array(depth_correction_mod)-np.array(depth_correction_hist)\n",
    "# model_pCO2"
   ]
  },
  {
   "cell_type": "markdown",
   "metadata": {
    "tags": []
   },
   "source": [
    "## Calculate historic $p$CO$_2$ at coral locations predicted by **geochemical record**\n",
    "\n",
    "As described in Methods, the $p$CO$_2$ of historic corals in the California Current are well constrained by historic δ11B measurements. These reconstructed $p$CO$_2$ values are independent of our model and can be compared to modern data, modeled or otherwise, as well as other proxies. The results of our study are primarily based on these independent $p$CO$_2$ reconstructions. \n",
    "\n",
    "Calculate coral-based historic $p$CO$_2$ using solver script (Methods):\n",
    " - **DIC**:\n",
    "   - 2145 mmol/kg; The average DIC represents modeled, historic summertime DIC in the nearshore CCS at 0–125 meters depth between 1897-1904. \n",
    "   - δ11B provides a tight constraint on $p$CO$_2$ regardless of changes in DIC. Over a large range of DIC values, lines of constant δ11B are nearly parallel with the contour lines corresponding to specific seawater $p$CO$_2$ values (Extended Data Figure 3).\n",
    " - **pH**:\n",
    "   - Informed by δ11B-pH calibration relationship (Methods Equations 1 and 2)\n",
    "   - pH offset of 0.1 is applied\n",
    " - **Temperature**:\n",
    "    - 7-year summer average at each coral location informed by the historic model\n",
    " - **Salinity**:\n",
    "   - 7-year summer average at each coral location informed by the historic model\n"
   ]
  },
  {
   "cell_type": "code",
   "execution_count": 15,
   "metadata": {},
   "outputs": [],
   "source": [
    "corals_pCO2 = pd.DataFrame(index = coral_ph_data['CatalogID'])\n",
    "pco2_avg_list = []\n",
    "pco2_se_list = []\n",
    "\n",
    "#pH offset, as described in Methods\n",
    "offset = 0.1\n",
    "\n",
    "for i in range(0,len(coral_ph_data['CatalogID'])):\n",
    "    hist_prof_list = hist_dict[keys[i]]\n",
    "    site_depth = coral_ph_data['Depth(m)'][i]\n",
    "    rounded_depth = coral_fxns.round_depth(site_depth)\n",
    "    depth_index = depth_list.index(rounded_depth)\n",
    "\n",
    "    temp = hist_prof_list['temp'][depth_index] #in units Celsius\n",
    "    sal = hist_prof_list['salt'][depth_index] #in units PSU\n",
    "    DIC = 2145/(1026*1000) #in units umol/kg\n",
    "\n",
    "    ph_avg = coral_ph_data['pH_avg_no_offset'].iloc[i]-offset\n",
    "    ph_se = coral_ph_data['pH_avg_no_offset'].iloc[i]-offset + coral_ph_data['pH_SE'].iloc[i]\n",
    "    \n",
    "    #Calculate coral-based pCO2 using solver script\n",
    "    pco2_avg = calc_pCO2(ph_avg, DIC, temp, sal)\n",
    "    pco2_se = calc_pCO2(ph_se, DIC, temp, sal)\n",
    "\n",
    "    pco2_avg_list.append(float(pco2_avg))\n",
    "    pco2_se_list.append(float(pco2_se))\n",
    "\n",
    "corals_pCO2['pCO2_avg (uatm)'] = pco2_avg_list \n",
    "corals_pCO2['pCO2_SE'] = abs(pco2_se_list - corals_pCO2['pCO2_avg (uatm)'])"
   ]
  },
  {
   "cell_type": "markdown",
   "metadata": {},
   "source": [
    "### Extended Data Table Figure 4\n",
    "West Coast coral $p$CO$_2$ and pH values (total scale) informed by skeletal δ11B. Average pH values at each location are calculated from the δ11B-pH relationship (Methods, Equation 2) and modeled historic DIC (Methods, Equation 1). The -0.10-offset determined in the Salish Sea is applied to the average pH data (Methods). The average DIC represents modeled, historic summertime DIC in the nearshore CCS at 0–125 meters depth between 2000–2007. "
   ]
  },
  {
   "cell_type": "code",
   "execution_count": 16,
   "metadata": {},
   "outputs": [
    {
     "data": {
      "text/html": [
       "<div>\n",
       "<style scoped>\n",
       "    .dataframe tbody tr th:only-of-type {\n",
       "        vertical-align: middle;\n",
       "    }\n",
       "\n",
       "    .dataframe tbody tr th {\n",
       "        vertical-align: top;\n",
       "    }\n",
       "\n",
       "    .dataframe thead th {\n",
       "        text-align: right;\n",
       "    }\n",
       "</style>\n",
       "<table border=\"1\" class=\"dataframe\">\n",
       "  <thead>\n",
       "    <tr style=\"text-align: right;\">\n",
       "      <th></th>\n",
       "      <th>Average DIC CCS (mmol/m$^3$)</th>\n",
       "      <th>Average pH (Offset Applied)</th>\n",
       "      <th>Average $p$CO$_2$ ($\\mu$atm)</th>\n",
       "    </tr>\n",
       "    <tr>\n",
       "      <th>CatalogID</th>\n",
       "      <th></th>\n",
       "      <th></th>\n",
       "      <th></th>\n",
       "    </tr>\n",
       "  </thead>\n",
       "  <tbody>\n",
       "    <tr>\n",
       "      <th>USNM 92621</th>\n",
       "      <td>2145</td>\n",
       "      <td>7.79</td>\n",
       "      <td>715</td>\n",
       "    </tr>\n",
       "    <tr>\n",
       "      <th>USNM 36416</th>\n",
       "      <td>2145</td>\n",
       "      <td>7.86</td>\n",
       "      <td>608</td>\n",
       "    </tr>\n",
       "    <tr>\n",
       "      <th>USNM 92625</th>\n",
       "      <td>2145</td>\n",
       "      <td>7.89</td>\n",
       "      <td>570</td>\n",
       "    </tr>\n",
       "    <tr>\n",
       "      <th>USNM 19233</th>\n",
       "      <td>2145</td>\n",
       "      <td>7.85</td>\n",
       "      <td>626</td>\n",
       "    </tr>\n",
       "    <tr>\n",
       "      <th>USNM 92624</th>\n",
       "      <td>2145</td>\n",
       "      <td>7.83</td>\n",
       "      <td>664</td>\n",
       "    </tr>\n",
       "    <tr>\n",
       "      <th>USNM 92623</th>\n",
       "      <td>2145</td>\n",
       "      <td>7.84</td>\n",
       "      <td>640</td>\n",
       "    </tr>\n",
       "    <tr>\n",
       "      <th>USNM 78638</th>\n",
       "      <td>2145</td>\n",
       "      <td>7.75</td>\n",
       "      <td>794</td>\n",
       "    </tr>\n",
       "    <tr>\n",
       "      <th>USNM 78640</th>\n",
       "      <td>2145</td>\n",
       "      <td>7.96</td>\n",
       "      <td>488</td>\n",
       "    </tr>\n",
       "    <tr>\n",
       "      <th>USNM 92622</th>\n",
       "      <td>2145</td>\n",
       "      <td>8.03</td>\n",
       "      <td>403</td>\n",
       "    </tr>\n",
       "    <tr>\n",
       "      <th>USNM 19274</th>\n",
       "      <td>2145</td>\n",
       "      <td>7.94</td>\n",
       "      <td>510</td>\n",
       "    </tr>\n",
       "  </tbody>\n",
       "</table>\n",
       "</div>"
      ],
      "text/plain": [
       "            Average DIC CCS (mmol/m$^3$)  Average pH (Offset Applied)  \\\n",
       "CatalogID                                                               \n",
       "USNM 92621                          2145                         7.79   \n",
       "USNM 36416                          2145                         7.86   \n",
       "USNM 92625                          2145                         7.89   \n",
       "USNM 19233                          2145                         7.85   \n",
       "USNM 92624                          2145                         7.83   \n",
       "USNM 92623                          2145                         7.84   \n",
       "USNM 78638                          2145                         7.75   \n",
       "USNM 78640                          2145                         7.96   \n",
       "USNM 92622                          2145                         8.03   \n",
       "USNM 19274                          2145                         7.94   \n",
       "\n",
       "            Average $p$CO$_2$ ($\\mu$atm)  \n",
       "CatalogID                                 \n",
       "USNM 92621                           715  \n",
       "USNM 36416                           608  \n",
       "USNM 92625                           570  \n",
       "USNM 19233                           626  \n",
       "USNM 92624                           664  \n",
       "USNM 92623                           640  \n",
       "USNM 78638                           794  \n",
       "USNM 78640                           488  \n",
       "USNM 92622                           403  \n",
       "USNM 19274                           510  "
      ]
     },
     "execution_count": 16,
     "metadata": {},
     "output_type": "execute_result"
    }
   ],
   "source": [
    "DIC = pd.Series([2145] * 10)\n",
    "DIC.index = coral_ph_data['CatalogID']\n",
    "pH = (coral_ph_data['pH_avg_no_offset'][0:10]-0.1).round(2)\n",
    "pH.index = coral_ph_data['CatalogID']\n",
    "pCO2 = corals_pCO2['pCO2_avg (uatm)'][0:10].astype(int)\n",
    "\n",
    "manuscript_df = pd.concat({'Average DIC CCS (mmol/m$^3$)': DIC,\n",
    "                           'Average pH (Offset Applied)': pH,\n",
    "                           'Average $p$CO$_2$ ($\\mu$atm)': pCO2}, axis = 1)\n",
    "\n",
    "manuscript_df"
   ]
  },
  {
   "cell_type": "markdown",
   "metadata": {
    "tags": []
   },
   "source": [
    "# Figures"
   ]
  },
  {
   "cell_type": "markdown",
   "metadata": {
    "tags": []
   },
   "source": [
    "### Main Text Figure 2\n",
    "Geochemical and model records of 20th century acidification in the California Current\n",
    "\n",
    "Comparison between modeled historic $p$CO$_2$ and measured historic coral $p$CO$_2$ in the California Current as a function of modern modeled $p$CO$_2$. \n",
    "\n",
    "In all but one location, the season of environmental conditions that aligns with optimal growth corresponds with June, July, and August. Our northernmost location (USNM 92621), however, shows a different climatology where optimized nutrient conditions are delayed. This is likely due to the accumulation of respiration and acidified and hypoxic conditions in the northern CCS through the upwelling season where there is longer retention. For this location, we select a 3-month window including July, August, and September. See Methods for further details."
   ]
  },
  {
   "cell_type": "code",
   "execution_count": 17,
   "metadata": {},
   "outputs": [],
   "source": [
    "#CREATE LEGEND ELEMENTS\n",
    "\n",
    "legend_elements = [Line2D([0], [0], color = 'k', label = '1:1 Line', alpha = 0.8, linewidth=1.5),\n",
    "                   Line2D([0], [0], color = 'dodgerblue', label = 'Model 0-25m $\\Delta$$p$CO$_2$ = 80 $\\mu$atm', linewidth=2.5, alpha = 0.8, linestyle = (0,(7,10))),\n",
    "                   Line2D([0], [0], color = 'orange', label = 'Model 50-60m $\\Delta$$p$CO$_2$ = 135 $\\mu$atm', linewidth=2.5, alpha = 0.8, linestyle = (0,(7,10))),\n",
    "                   Line2D([0], [0], color = 'seagreen', label = 'Model 75-125m $\\Delta$$p$CO$_2$ = 150 $\\mu$atm', linewidth=2.5, alpha = 0.8, linestyle = (0,(7,10)))]\n",
    "\n",
    "legend_elements_corals = [Patch(facecolor = 'dodgerblue', label = 'Corals 0-25m', alpha = 0.8, edgecolor = 'black'),\n",
    "                          Patch(facecolor = 'orange', label = 'Corals 50-60m', alpha = 0.8, edgecolor = 'black'),\n",
    "                          Patch(facecolor = 'seagreen', label = 'Corals 75+m', alpha = 0.8, edgecolor = 'black')]\n",
    "\n",
    "legend_elements.extend(legend_elements_corals)"
   ]
  },
  {
   "cell_type": "code",
   "execution_count": 18,
   "metadata": {},
   "outputs": [
    {
     "data": {
      "text/plain": [
       "(array([300., 400., 500., 600., 700., 800., 900.]),\n",
       " [Text(0, 0, ''),\n",
       "  Text(0, 0, ''),\n",
       "  Text(0, 0, ''),\n",
       "  Text(0, 0, ''),\n",
       "  Text(0, 0, ''),\n",
       "  Text(0, 0, ''),\n",
       "  Text(0, 0, '')])"
      ]
     },
     "execution_count": 18,
     "metadata": {},
     "output_type": "execute_result"
    },
    {
     "data": {
      "image/png": "[encoded data removed]",
      "text/plain": [
       "<Figure size 720x576 with 1 Axes>"
      ]
     },
     "metadata": {
      "needs_background": "light"
     },
     "output_type": "display_data"
    }
   ],
   "source": [
    "colors = ['orange','seagreen','orange','seagreen','orange','orange',\n",
    "          'dodgerblue','dodgerblue','seagreen','seagreen']\n",
    "\n",
    "fig = plt.figure(figsize = (10,8))\n",
    "ax = fig.add_subplot(111)\n",
    "\n",
    "for i in range(0,9):\n",
    "    site_depth = coral_ph_data['Depth(m)'][i]\n",
    "    rounded_depth = coral_fxns.round_depth(site_depth)\n",
    "    site = coral_ph_data['CatalogID'][i]\n",
    "    catalogID = model_pCO2.index[i]\n",
    "\n",
    "    if site == 'USNM 92621':\n",
    "        '''PLOT CORAL DATA'''\n",
    "        model_pCO2_92621 = 865.96 #this represents the July/August/September model average, as described in Methods\n",
    "        ax.scatter(model_pCO2_92621,\n",
    "                   float(corals_pCO2['pCO2_avg (uatm)'].iloc[i]),\n",
    "                   alpha = 0.8, s = 125, edgecolor = 'black', marker = 's', facecolor = colors[i])\n",
    "        \n",
    "\n",
    "        '''PLOT ERROR BARS FOR CORAL DATA'''\n",
    "        plt.errorbar(model_pCO2_92621,\n",
    "                     corals_pCO2['pCO2_avg (uatm)'].iloc[i], yerr = corals_pCO2['pCO2_SE'].iloc[i],\n",
    "                     color = colors[i], capsize = 4, alpha = 0.6, zorder = 2)\n",
    "        ax.annotate('n = 1', xy = (865.96, 706.34), xytext = (10, -6), textcoords = 'offset points',\n",
    "                    size = 12, zorder = 10)\n",
    "        \n",
    "    else:\n",
    "        '''PLOT CORAL DATA'''\n",
    "        ax.scatter(model_pCO2['Modern Summer Mean 3x3 Depth Correction'].iloc[i],\n",
    "                   float(corals_pCO2['pCO2_avg (uatm)'].iloc[i]),\n",
    "                   alpha = 0.8, s=125, edgecolor = 'black', marker = 's', facecolor = colors[i])\n",
    "\n",
    "        '''PLOT ERROR BARS FOR CORAL DATA'''\n",
    "        plt.errorbar(model_pCO2['Modern Summer Mean 3x3 Depth Correction'].iloc[i],\n",
    "                     corals_pCO2['pCO2_avg (uatm)'].iloc[i], yerr = corals_pCO2['pCO2_SE'].iloc[i],\n",
    "                     color = colors[i], capsize = 4, alpha = 0.6, zorder = 2)\n",
    "\n",
    "\n",
    "'''PLOT LABELS TO SHOW NUMBER OF CORALS AT EACH LOCATION'''\n",
    "counter = 0\n",
    "for label, modern_model_pco2, coral, color in zip(coral_ph_data['Number_Corals'][0:9],\n",
    "                                                  model_pCO2['Modern Summer Mean 3x3 Depth Correction'][0:9],\n",
    "                                                  corals_pCO2['pCO2_avg (uatm)'][0:9],\n",
    "                                                  colors[0:9]): \n",
    "    site = coral_ph_data['CatalogID'][counter]\n",
    "    \n",
    "    if (site != 'USNM 92621'):\n",
    "        label = 'n = '+str(int(label))\n",
    "        modern_model_pco2 = modern_model_pco2 + 6 #model_err \n",
    "        ax.annotate(label, xy = (modern_model_pco2, coral), xytext=(1, -6),textcoords='offset points',\n",
    "                    size = 12, zorder = 10)\n",
    "        \n",
    "        \n",
    "        if site == 'USNM 78638':\n",
    "            ax.annotate('Moss Tidepools', xy = (modern_model_pco2, coral), xytext=(1, 6),textcoords='offset points',\n",
    "                        size = 12, zorder = 10)        \n",
    "    \n",
    "    counter+=1\n",
    "\n",
    "'''PLOT LINES TO REPRESENT MODEL ESTIMATES OF CENTENNIAL CHANGE IN PCO2'''\n",
    "if i==8: \n",
    "    ax.plot([350,1000], [350,1000], color='k', linewidth=1, alpha = 0.6, zorder = 0)\n",
    "    ax.plot([350,1000], [350-80, 1000-80], color='dodgerblue', linestyle=(0,(7,10)), linewidth=4, alpha = 0.8, zorder = 0)\n",
    "    ax.plot([350,1000], [350-135,1000-135], color='orange', linestyle=(0,(7,10)),linewidth=4, alpha = 0.8, zorder = 0)\n",
    "    ax.plot([350,1000], [350-150, 1000-150], color='seagreen', linestyle=(0,(7,10)),linewidth=4, alpha = 0.8, zorder = 0)\n",
    "            \n",
    "            \n",
    "'''LABEL AXES'''\n",
    "ax.set_ylim(300,900)\n",
    "ax.set_xlim(500,950)\n",
    "ax.set_xlabel('Modern $p$CO$_2$ ($\\mu$atm)', size = 17)\n",
    "ax.set_ylabel('Historic $p$CO$_2$ ($\\mu$atm)', size = 17)\n",
    "ax.legend(bbox_to_anchor=(1.1, 1), prop={'size': 15}, handles = legend_elements)\n",
    "plt.xticks(fontsize = 15)\n",
    "plt.yticks(fontsize = 15)"
   ]
  }
 ],
 "metadata": {
  "kernelspec": {
   "display_name": "Python 3 (ipykernel)",
   "language": "python",
   "name": "python3"
  },
  "language_info": {
   "codemirror_mode": {
    "name": "ipython",
    "version": 3
   },
   "file_extension": ".py",
   "mimetype": "text/x-python",
   "name": "python",
   "nbconvert_exporter": "python",
   "pygments_lexer": "ipython3",
   "version": "3.9.12"
  }
 },
 "nbformat": 4,
 "nbformat_minor": 4
}
